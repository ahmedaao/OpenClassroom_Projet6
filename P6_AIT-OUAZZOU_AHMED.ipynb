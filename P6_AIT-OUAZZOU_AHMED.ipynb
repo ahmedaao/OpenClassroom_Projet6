{
 "cells": [
  {
   "cell_type": "markdown",
   "metadata": {},
   "source": [
    "# IMPORTATION DES PACKTAGES UTILES"
   ]
  },
  {
   "cell_type": "code",
   "execution_count": 1,
   "metadata": {},
   "outputs": [],
   "source": [
    "import matplotlib.pyplot as plt\n",
    "import seaborn as sns\n",
    "import pandas as pd\n",
    "import numpy as np\n",
    "import datetime\n",
    "import scipy.stats as st\n",
    "import statsmodels.api as sm\n",
    "from statsmodels.formula.api import ols"
   ]
  },
  {
   "cell_type": "markdown",
   "metadata": {},
   "source": [
    "# IMPORTATION DES DONNÉES"
   ]
  },
  {
   "cell_type": "code",
   "execution_count": 2,
   "metadata": {},
   "outputs": [],
   "source": [
    "customers = pd.read_csv('customers.csv')\n",
    "products = pd.read_csv(\"products.csv\")\n",
    "transactions = pd.read_csv(\"transactions.csv\")"
   ]
  },
  {
   "cell_type": "markdown",
   "metadata": {},
   "source": [
    "# ÉTUDE ET NETTOYAGE DES DATAFRAMES"
   ]
  },
  {
   "cell_type": "markdown",
   "metadata": {},
   "source": [
    "## DATAFRAME CUSTOMERS"
   ]
  },
  {
   "cell_type": "code",
   "execution_count": 3,
   "metadata": {},
   "outputs": [
    {
     "data": {
      "text/plain": [
       "(8623, 3)"
      ]
     },
     "execution_count": 3,
     "metadata": {},
     "output_type": "execute_result"
    }
   ],
   "source": [
    "customers.shape"
   ]
  },
  {
   "cell_type": "code",
   "execution_count": 4,
   "metadata": {},
   "outputs": [
    {
     "data": {
      "text/html": [
       "<div>\n",
       "<style scoped>\n",
       "    .dataframe tbody tr th:only-of-type {\n",
       "        vertical-align: middle;\n",
       "    }\n",
       "\n",
       "    .dataframe tbody tr th {\n",
       "        vertical-align: top;\n",
       "    }\n",
       "\n",
       "    .dataframe thead th {\n",
       "        text-align: right;\n",
       "    }\n",
       "</style>\n",
       "<table border=\"1\" class=\"dataframe\">\n",
       "  <thead>\n",
       "    <tr style=\"text-align: right;\">\n",
       "      <th></th>\n",
       "      <th>client_id</th>\n",
       "      <th>sex</th>\n",
       "      <th>birth</th>\n",
       "    </tr>\n",
       "  </thead>\n",
       "  <tbody>\n",
       "    <tr>\n",
       "      <th>0</th>\n",
       "      <td>c_4410</td>\n",
       "      <td>f</td>\n",
       "      <td>1967</td>\n",
       "    </tr>\n",
       "    <tr>\n",
       "      <th>1</th>\n",
       "      <td>c_7839</td>\n",
       "      <td>f</td>\n",
       "      <td>1975</td>\n",
       "    </tr>\n",
       "    <tr>\n",
       "      <th>2</th>\n",
       "      <td>c_1699</td>\n",
       "      <td>f</td>\n",
       "      <td>1984</td>\n",
       "    </tr>\n",
       "    <tr>\n",
       "      <th>3</th>\n",
       "      <td>c_5961</td>\n",
       "      <td>f</td>\n",
       "      <td>1962</td>\n",
       "    </tr>\n",
       "    <tr>\n",
       "      <th>4</th>\n",
       "      <td>c_5320</td>\n",
       "      <td>m</td>\n",
       "      <td>1943</td>\n",
       "    </tr>\n",
       "  </tbody>\n",
       "</table>\n",
       "</div>"
      ],
      "text/plain": [
       "  client_id sex  birth\n",
       "0    c_4410   f   1967\n",
       "1    c_7839   f   1975\n",
       "2    c_1699   f   1984\n",
       "3    c_5961   f   1962\n",
       "4    c_5320   m   1943"
      ]
     },
     "execution_count": 4,
     "metadata": {},
     "output_type": "execute_result"
    }
   ],
   "source": [
    "customers.head()"
   ]
  },
  {
   "cell_type": "code",
   "execution_count": 5,
   "metadata": {},
   "outputs": [
    {
     "name": "stdout",
     "output_type": "stream",
     "text": [
      "<class 'pandas.core.frame.DataFrame'>\n",
      "RangeIndex: 8623 entries, 0 to 8622\n",
      "Data columns (total 3 columns):\n",
      " #   Column     Non-Null Count  Dtype \n",
      "---  ------     --------------  ----- \n",
      " 0   client_id  8623 non-null   object\n",
      " 1   sex        8623 non-null   object\n",
      " 2   birth      8623 non-null   int64 \n",
      "dtypes: int64(1), object(2)\n",
      "memory usage: 202.2+ KB\n"
     ]
    }
   ],
   "source": [
    "customers.info()"
   ]
  },
  {
   "cell_type": "code",
   "execution_count": 6,
   "metadata": {},
   "outputs": [
    {
     "data": {
      "text/html": [
       "<div>\n",
       "<style scoped>\n",
       "    .dataframe tbody tr th:only-of-type {\n",
       "        vertical-align: middle;\n",
       "    }\n",
       "\n",
       "    .dataframe tbody tr th {\n",
       "        vertical-align: top;\n",
       "    }\n",
       "\n",
       "    .dataframe thead th {\n",
       "        text-align: right;\n",
       "    }\n",
       "</style>\n",
       "<table border=\"1\" class=\"dataframe\">\n",
       "  <thead>\n",
       "    <tr style=\"text-align: right;\">\n",
       "      <th></th>\n",
       "      <th>client_id</th>\n",
       "      <th>sex</th>\n",
       "      <th>birth</th>\n",
       "    </tr>\n",
       "  </thead>\n",
       "  <tbody>\n",
       "    <tr>\n",
       "      <th>count</th>\n",
       "      <td>8623</td>\n",
       "      <td>8623</td>\n",
       "      <td>8623.000000</td>\n",
       "    </tr>\n",
       "    <tr>\n",
       "      <th>unique</th>\n",
       "      <td>8623</td>\n",
       "      <td>2</td>\n",
       "      <td>NaN</td>\n",
       "    </tr>\n",
       "    <tr>\n",
       "      <th>top</th>\n",
       "      <td>c_5412</td>\n",
       "      <td>f</td>\n",
       "      <td>NaN</td>\n",
       "    </tr>\n",
       "    <tr>\n",
       "      <th>freq</th>\n",
       "      <td>1</td>\n",
       "      <td>4491</td>\n",
       "      <td>NaN</td>\n",
       "    </tr>\n",
       "    <tr>\n",
       "      <th>mean</th>\n",
       "      <td>NaN</td>\n",
       "      <td>NaN</td>\n",
       "      <td>1978.280877</td>\n",
       "    </tr>\n",
       "    <tr>\n",
       "      <th>std</th>\n",
       "      <td>NaN</td>\n",
       "      <td>NaN</td>\n",
       "      <td>16.919535</td>\n",
       "    </tr>\n",
       "    <tr>\n",
       "      <th>min</th>\n",
       "      <td>NaN</td>\n",
       "      <td>NaN</td>\n",
       "      <td>1929.000000</td>\n",
       "    </tr>\n",
       "    <tr>\n",
       "      <th>25%</th>\n",
       "      <td>NaN</td>\n",
       "      <td>NaN</td>\n",
       "      <td>1966.000000</td>\n",
       "    </tr>\n",
       "    <tr>\n",
       "      <th>50%</th>\n",
       "      <td>NaN</td>\n",
       "      <td>NaN</td>\n",
       "      <td>1979.000000</td>\n",
       "    </tr>\n",
       "    <tr>\n",
       "      <th>75%</th>\n",
       "      <td>NaN</td>\n",
       "      <td>NaN</td>\n",
       "      <td>1992.000000</td>\n",
       "    </tr>\n",
       "    <tr>\n",
       "      <th>max</th>\n",
       "      <td>NaN</td>\n",
       "      <td>NaN</td>\n",
       "      <td>2004.000000</td>\n",
       "    </tr>\n",
       "  </tbody>\n",
       "</table>\n",
       "</div>"
      ],
      "text/plain": [
       "       client_id   sex        birth\n",
       "count       8623  8623  8623.000000\n",
       "unique      8623     2          NaN\n",
       "top       c_5412     f          NaN\n",
       "freq           1  4491          NaN\n",
       "mean         NaN   NaN  1978.280877\n",
       "std          NaN   NaN    16.919535\n",
       "min          NaN   NaN  1929.000000\n",
       "25%          NaN   NaN  1966.000000\n",
       "50%          NaN   NaN  1979.000000\n",
       "75%          NaN   NaN  1992.000000\n",
       "max          NaN   NaN  2004.000000"
      ]
     },
     "execution_count": 6,
     "metadata": {},
     "output_type": "execute_result"
    }
   ],
   "source": [
    "customers.describe(include='all')"
   ]
  },
  {
   "cell_type": "code",
   "execution_count": 7,
   "metadata": {},
   "outputs": [
    {
     "data": {
      "text/plain": [
       "client_id    0\n",
       "sex          0\n",
       "birth        0\n",
       "dtype: int64"
      ]
     },
     "execution_count": 7,
     "metadata": {},
     "output_type": "execute_result"
    }
   ],
   "source": [
    "customers.isnull().sum()"
   ]
  },
  {
   "cell_type": "markdown",
   "metadata": {},
   "source": [
    "## DATAFRAME PRODUCTS"
   ]
  },
  {
   "cell_type": "code",
   "execution_count": 8,
   "metadata": {},
   "outputs": [
    {
     "data": {
      "text/plain": [
       "(3287, 3)"
      ]
     },
     "execution_count": 8,
     "metadata": {},
     "output_type": "execute_result"
    }
   ],
   "source": [
    "products.shape"
   ]
  },
  {
   "cell_type": "code",
   "execution_count": 9,
   "metadata": {},
   "outputs": [
    {
     "data": {
      "text/html": [
       "<div>\n",
       "<style scoped>\n",
       "    .dataframe tbody tr th:only-of-type {\n",
       "        vertical-align: middle;\n",
       "    }\n",
       "\n",
       "    .dataframe tbody tr th {\n",
       "        vertical-align: top;\n",
       "    }\n",
       "\n",
       "    .dataframe thead th {\n",
       "        text-align: right;\n",
       "    }\n",
       "</style>\n",
       "<table border=\"1\" class=\"dataframe\">\n",
       "  <thead>\n",
       "    <tr style=\"text-align: right;\">\n",
       "      <th></th>\n",
       "      <th>id_prod</th>\n",
       "      <th>price</th>\n",
       "      <th>categ</th>\n",
       "    </tr>\n",
       "  </thead>\n",
       "  <tbody>\n",
       "    <tr>\n",
       "      <th>0</th>\n",
       "      <td>0_1421</td>\n",
       "      <td>19.99</td>\n",
       "      <td>0</td>\n",
       "    </tr>\n",
       "    <tr>\n",
       "      <th>1</th>\n",
       "      <td>0_1368</td>\n",
       "      <td>5.13</td>\n",
       "      <td>0</td>\n",
       "    </tr>\n",
       "    <tr>\n",
       "      <th>2</th>\n",
       "      <td>0_731</td>\n",
       "      <td>17.99</td>\n",
       "      <td>0</td>\n",
       "    </tr>\n",
       "    <tr>\n",
       "      <th>3</th>\n",
       "      <td>1_587</td>\n",
       "      <td>4.99</td>\n",
       "      <td>1</td>\n",
       "    </tr>\n",
       "    <tr>\n",
       "      <th>4</th>\n",
       "      <td>0_1507</td>\n",
       "      <td>3.99</td>\n",
       "      <td>0</td>\n",
       "    </tr>\n",
       "  </tbody>\n",
       "</table>\n",
       "</div>"
      ],
      "text/plain": [
       "  id_prod  price  categ\n",
       "0  0_1421  19.99      0\n",
       "1  0_1368   5.13      0\n",
       "2   0_731  17.99      0\n",
       "3   1_587   4.99      1\n",
       "4  0_1507   3.99      0"
      ]
     },
     "execution_count": 9,
     "metadata": {},
     "output_type": "execute_result"
    }
   ],
   "source": [
    "products.head()"
   ]
  },
  {
   "cell_type": "code",
   "execution_count": 10,
   "metadata": {},
   "outputs": [
    {
     "name": "stdout",
     "output_type": "stream",
     "text": [
      "<class 'pandas.core.frame.DataFrame'>\n",
      "RangeIndex: 3287 entries, 0 to 3286\n",
      "Data columns (total 3 columns):\n",
      " #   Column   Non-Null Count  Dtype  \n",
      "---  ------   --------------  -----  \n",
      " 0   id_prod  3287 non-null   object \n",
      " 1   price    3287 non-null   float64\n",
      " 2   categ    3287 non-null   int64  \n",
      "dtypes: float64(1), int64(1), object(1)\n",
      "memory usage: 77.2+ KB\n"
     ]
    }
   ],
   "source": [
    "products.info()"
   ]
  },
  {
   "cell_type": "code",
   "execution_count": 11,
   "metadata": {},
   "outputs": [
    {
     "data": {
      "text/html": [
       "<div>\n",
       "<style scoped>\n",
       "    .dataframe tbody tr th:only-of-type {\n",
       "        vertical-align: middle;\n",
       "    }\n",
       "\n",
       "    .dataframe tbody tr th {\n",
       "        vertical-align: top;\n",
       "    }\n",
       "\n",
       "    .dataframe thead th {\n",
       "        text-align: right;\n",
       "    }\n",
       "</style>\n",
       "<table border=\"1\" class=\"dataframe\">\n",
       "  <thead>\n",
       "    <tr style=\"text-align: right;\">\n",
       "      <th></th>\n",
       "      <th>id_prod</th>\n",
       "      <th>price</th>\n",
       "      <th>categ</th>\n",
       "    </tr>\n",
       "  </thead>\n",
       "  <tbody>\n",
       "    <tr>\n",
       "      <th>count</th>\n",
       "      <td>3287</td>\n",
       "      <td>3287.000000</td>\n",
       "      <td>3287.000000</td>\n",
       "    </tr>\n",
       "    <tr>\n",
       "      <th>unique</th>\n",
       "      <td>3287</td>\n",
       "      <td>NaN</td>\n",
       "      <td>NaN</td>\n",
       "    </tr>\n",
       "    <tr>\n",
       "      <th>top</th>\n",
       "      <td>0_2104</td>\n",
       "      <td>NaN</td>\n",
       "      <td>NaN</td>\n",
       "    </tr>\n",
       "    <tr>\n",
       "      <th>freq</th>\n",
       "      <td>1</td>\n",
       "      <td>NaN</td>\n",
       "      <td>NaN</td>\n",
       "    </tr>\n",
       "    <tr>\n",
       "      <th>mean</th>\n",
       "      <td>NaN</td>\n",
       "      <td>21.856641</td>\n",
       "      <td>0.370246</td>\n",
       "    </tr>\n",
       "    <tr>\n",
       "      <th>std</th>\n",
       "      <td>NaN</td>\n",
       "      <td>29.847908</td>\n",
       "      <td>0.615387</td>\n",
       "    </tr>\n",
       "    <tr>\n",
       "      <th>min</th>\n",
       "      <td>NaN</td>\n",
       "      <td>-1.000000</td>\n",
       "      <td>0.000000</td>\n",
       "    </tr>\n",
       "    <tr>\n",
       "      <th>25%</th>\n",
       "      <td>NaN</td>\n",
       "      <td>6.990000</td>\n",
       "      <td>0.000000</td>\n",
       "    </tr>\n",
       "    <tr>\n",
       "      <th>50%</th>\n",
       "      <td>NaN</td>\n",
       "      <td>13.060000</td>\n",
       "      <td>0.000000</td>\n",
       "    </tr>\n",
       "    <tr>\n",
       "      <th>75%</th>\n",
       "      <td>NaN</td>\n",
       "      <td>22.990000</td>\n",
       "      <td>1.000000</td>\n",
       "    </tr>\n",
       "    <tr>\n",
       "      <th>max</th>\n",
       "      <td>NaN</td>\n",
       "      <td>300.000000</td>\n",
       "      <td>2.000000</td>\n",
       "    </tr>\n",
       "  </tbody>\n",
       "</table>\n",
       "</div>"
      ],
      "text/plain": [
       "       id_prod        price        categ\n",
       "count     3287  3287.000000  3287.000000\n",
       "unique    3287          NaN          NaN\n",
       "top     0_2104          NaN          NaN\n",
       "freq         1          NaN          NaN\n",
       "mean       NaN    21.856641     0.370246\n",
       "std        NaN    29.847908     0.615387\n",
       "min        NaN    -1.000000     0.000000\n",
       "25%        NaN     6.990000     0.000000\n",
       "50%        NaN    13.060000     0.000000\n",
       "75%        NaN    22.990000     1.000000\n",
       "max        NaN   300.000000     2.000000"
      ]
     },
     "execution_count": 11,
     "metadata": {},
     "output_type": "execute_result"
    }
   ],
   "source": [
    "products.describe(include='all')"
   ]
  },
  {
   "cell_type": "code",
   "execution_count": 12,
   "metadata": {},
   "outputs": [],
   "source": [
    "# On supprime la ligne avec un prix < 0\n",
    "products = products[products[\"price\"] > 0]"
   ]
  },
  {
   "cell_type": "code",
   "execution_count": 13,
   "metadata": {},
   "outputs": [
    {
     "data": {
      "text/plain": [
       "id_prod    0\n",
       "price      0\n",
       "categ      0\n",
       "dtype: int64"
      ]
     },
     "execution_count": 13,
     "metadata": {},
     "output_type": "execute_result"
    }
   ],
   "source": [
    "products.isnull().sum()"
   ]
  },
  {
   "cell_type": "markdown",
   "metadata": {},
   "source": [
    "\n",
    "## DATAFRAME TRANSACTIONS"
   ]
  },
  {
   "cell_type": "code",
   "execution_count": 14,
   "metadata": {},
   "outputs": [
    {
     "data": {
      "text/plain": [
       "(679532, 4)"
      ]
     },
     "execution_count": 14,
     "metadata": {},
     "output_type": "execute_result"
    }
   ],
   "source": [
    "transactions.shape"
   ]
  },
  {
   "cell_type": "code",
   "execution_count": 15,
   "metadata": {},
   "outputs": [
    {
     "data": {
      "text/html": [
       "<div>\n",
       "<style scoped>\n",
       "    .dataframe tbody tr th:only-of-type {\n",
       "        vertical-align: middle;\n",
       "    }\n",
       "\n",
       "    .dataframe tbody tr th {\n",
       "        vertical-align: top;\n",
       "    }\n",
       "\n",
       "    .dataframe thead th {\n",
       "        text-align: right;\n",
       "    }\n",
       "</style>\n",
       "<table border=\"1\" class=\"dataframe\">\n",
       "  <thead>\n",
       "    <tr style=\"text-align: right;\">\n",
       "      <th></th>\n",
       "      <th>id_prod</th>\n",
       "      <th>date</th>\n",
       "      <th>session_id</th>\n",
       "      <th>client_id</th>\n",
       "    </tr>\n",
       "  </thead>\n",
       "  <tbody>\n",
       "    <tr>\n",
       "      <th>0</th>\n",
       "      <td>0_1518</td>\n",
       "      <td>2022-05-20 13:21:29.043970</td>\n",
       "      <td>s_211425</td>\n",
       "      <td>c_103</td>\n",
       "    </tr>\n",
       "    <tr>\n",
       "      <th>1</th>\n",
       "      <td>1_251</td>\n",
       "      <td>2022-02-02 07:55:19.149409</td>\n",
       "      <td>s_158752</td>\n",
       "      <td>c_8534</td>\n",
       "    </tr>\n",
       "    <tr>\n",
       "      <th>2</th>\n",
       "      <td>0_1277</td>\n",
       "      <td>2022-06-18 15:44:33.155329</td>\n",
       "      <td>s_225667</td>\n",
       "      <td>c_6714</td>\n",
       "    </tr>\n",
       "    <tr>\n",
       "      <th>3</th>\n",
       "      <td>2_209</td>\n",
       "      <td>2021-06-24 04:19:29.835891</td>\n",
       "      <td>s_52962</td>\n",
       "      <td>c_6941</td>\n",
       "    </tr>\n",
       "    <tr>\n",
       "      <th>4</th>\n",
       "      <td>0_1509</td>\n",
       "      <td>2023-01-11 08:22:08.194479</td>\n",
       "      <td>s_325227</td>\n",
       "      <td>c_4232</td>\n",
       "    </tr>\n",
       "  </tbody>\n",
       "</table>\n",
       "</div>"
      ],
      "text/plain": [
       "  id_prod                        date session_id client_id\n",
       "0  0_1518  2022-05-20 13:21:29.043970   s_211425     c_103\n",
       "1   1_251  2022-02-02 07:55:19.149409   s_158752    c_8534\n",
       "2  0_1277  2022-06-18 15:44:33.155329   s_225667    c_6714\n",
       "3   2_209  2021-06-24 04:19:29.835891    s_52962    c_6941\n",
       "4  0_1509  2023-01-11 08:22:08.194479   s_325227    c_4232"
      ]
     },
     "execution_count": 15,
     "metadata": {},
     "output_type": "execute_result"
    }
   ],
   "source": [
    "transactions.head()"
   ]
  },
  {
   "cell_type": "code",
   "execution_count": 16,
   "metadata": {},
   "outputs": [
    {
     "name": "stdout",
     "output_type": "stream",
     "text": [
      "<class 'pandas.core.frame.DataFrame'>\n",
      "RangeIndex: 679532 entries, 0 to 679531\n",
      "Data columns (total 4 columns):\n",
      " #   Column      Non-Null Count   Dtype \n",
      "---  ------      --------------   ----- \n",
      " 0   id_prod     679532 non-null  object\n",
      " 1   date        679532 non-null  object\n",
      " 2   session_id  679532 non-null  object\n",
      " 3   client_id   679532 non-null  object\n",
      "dtypes: object(4)\n",
      "memory usage: 20.7+ MB\n"
     ]
    }
   ],
   "source": [
    "transactions.info()"
   ]
  },
  {
   "cell_type": "code",
   "execution_count": 17,
   "metadata": {},
   "outputs": [
    {
     "data": {
      "text/html": [
       "<div>\n",
       "<style scoped>\n",
       "    .dataframe tbody tr th:only-of-type {\n",
       "        vertical-align: middle;\n",
       "    }\n",
       "\n",
       "    .dataframe tbody tr th {\n",
       "        vertical-align: top;\n",
       "    }\n",
       "\n",
       "    .dataframe thead th {\n",
       "        text-align: right;\n",
       "    }\n",
       "</style>\n",
       "<table border=\"1\" class=\"dataframe\">\n",
       "  <thead>\n",
       "    <tr style=\"text-align: right;\">\n",
       "      <th></th>\n",
       "      <th>id_prod</th>\n",
       "      <th>date</th>\n",
       "      <th>session_id</th>\n",
       "      <th>client_id</th>\n",
       "    </tr>\n",
       "  </thead>\n",
       "  <tbody>\n",
       "    <tr>\n",
       "      <th>count</th>\n",
       "      <td>679532</td>\n",
       "      <td>679532</td>\n",
       "      <td>679532</td>\n",
       "      <td>679532</td>\n",
       "    </tr>\n",
       "    <tr>\n",
       "      <th>unique</th>\n",
       "      <td>3267</td>\n",
       "      <td>679371</td>\n",
       "      <td>342316</td>\n",
       "      <td>8602</td>\n",
       "    </tr>\n",
       "    <tr>\n",
       "      <th>top</th>\n",
       "      <td>1_369</td>\n",
       "      <td>test_2021-03-01 02:30:02.237413</td>\n",
       "      <td>s_0</td>\n",
       "      <td>c_1609</td>\n",
       "    </tr>\n",
       "    <tr>\n",
       "      <th>freq</th>\n",
       "      <td>2252</td>\n",
       "      <td>13</td>\n",
       "      <td>200</td>\n",
       "      <td>25488</td>\n",
       "    </tr>\n",
       "  </tbody>\n",
       "</table>\n",
       "</div>"
      ],
      "text/plain": [
       "       id_prod                             date session_id client_id\n",
       "count   679532                           679532     679532    679532\n",
       "unique    3267                           679371     342316      8602\n",
       "top      1_369  test_2021-03-01 02:30:02.237413        s_0    c_1609\n",
       "freq      2252                               13        200     25488"
      ]
     },
     "execution_count": 17,
     "metadata": {},
     "output_type": "execute_result"
    }
   ],
   "source": [
    "transactions.describe(include='all')"
   ]
  },
  {
   "cell_type": "code",
   "execution_count": 18,
   "metadata": {},
   "outputs": [
    {
     "data": {
      "text/html": [
       "<div>\n",
       "<style scoped>\n",
       "    .dataframe tbody tr th:only-of-type {\n",
       "        vertical-align: middle;\n",
       "    }\n",
       "\n",
       "    .dataframe tbody tr th {\n",
       "        vertical-align: top;\n",
       "    }\n",
       "\n",
       "    .dataframe thead th {\n",
       "        text-align: right;\n",
       "    }\n",
       "</style>\n",
       "<table border=\"1\" class=\"dataframe\">\n",
       "  <thead>\n",
       "    <tr style=\"text-align: right;\">\n",
       "      <th></th>\n",
       "      <th>id_prod</th>\n",
       "      <th>date</th>\n",
       "      <th>session_id</th>\n",
       "      <th>client_id</th>\n",
       "    </tr>\n",
       "  </thead>\n",
       "  <tbody>\n",
       "    <tr>\n",
       "      <th>count</th>\n",
       "      <td>679332</td>\n",
       "      <td>679332</td>\n",
       "      <td>679332</td>\n",
       "      <td>679332</td>\n",
       "    </tr>\n",
       "    <tr>\n",
       "      <th>unique</th>\n",
       "      <td>3266</td>\n",
       "      <td>679332</td>\n",
       "      <td>342315</td>\n",
       "      <td>8600</td>\n",
       "    </tr>\n",
       "    <tr>\n",
       "      <th>top</th>\n",
       "      <td>1_369</td>\n",
       "      <td>2021-07-14 09:33:28.974160</td>\n",
       "      <td>s_118668</td>\n",
       "      <td>c_1609</td>\n",
       "    </tr>\n",
       "    <tr>\n",
       "      <th>freq</th>\n",
       "      <td>2252</td>\n",
       "      <td>1</td>\n",
       "      <td>14</td>\n",
       "      <td>25488</td>\n",
       "    </tr>\n",
       "  </tbody>\n",
       "</table>\n",
       "</div>"
      ],
      "text/plain": [
       "       id_prod                        date session_id client_id\n",
       "count   679332                      679332     679332    679332\n",
       "unique    3266                      679332     342315      8600\n",
       "top      1_369  2021-07-14 09:33:28.974160   s_118668    c_1609\n",
       "freq      2252                           1         14     25488"
      ]
     },
     "execution_count": 18,
     "metadata": {},
     "output_type": "execute_result"
    }
   ],
   "source": [
    "# On supprime les colonnes avec \"test_\"\n",
    "transactions = transactions[~transactions.date.str.contains('|'.join([\"test_\"]))]\n",
    "transactions.describe(include=\"all\")"
   ]
  },
  {
   "cell_type": "code",
   "execution_count": 19,
   "metadata": {},
   "outputs": [
    {
     "data": {
      "text/html": [
       "<div>\n",
       "<style scoped>\n",
       "    .dataframe tbody tr th:only-of-type {\n",
       "        vertical-align: middle;\n",
       "    }\n",
       "\n",
       "    .dataframe tbody tr th {\n",
       "        vertical-align: top;\n",
       "    }\n",
       "\n",
       "    .dataframe thead th {\n",
       "        text-align: right;\n",
       "    }\n",
       "</style>\n",
       "<table border=\"1\" class=\"dataframe\">\n",
       "  <thead>\n",
       "    <tr style=\"text-align: right;\">\n",
       "      <th></th>\n",
       "      <th>id_prod</th>\n",
       "      <th>date</th>\n",
       "      <th>session_id</th>\n",
       "      <th>client_id</th>\n",
       "    </tr>\n",
       "  </thead>\n",
       "  <tbody>\n",
       "    <tr>\n",
       "      <th>count</th>\n",
       "      <td>679332</td>\n",
       "      <td>679332</td>\n",
       "      <td>679332</td>\n",
       "      <td>679332</td>\n",
       "    </tr>\n",
       "    <tr>\n",
       "      <th>unique</th>\n",
       "      <td>3266</td>\n",
       "      <td>730</td>\n",
       "      <td>342315</td>\n",
       "      <td>8600</td>\n",
       "    </tr>\n",
       "    <tr>\n",
       "      <th>top</th>\n",
       "      <td>1_369</td>\n",
       "      <td>2022-11-30</td>\n",
       "      <td>s_118668</td>\n",
       "      <td>c_1609</td>\n",
       "    </tr>\n",
       "    <tr>\n",
       "      <th>freq</th>\n",
       "      <td>2252</td>\n",
       "      <td>1311</td>\n",
       "      <td>14</td>\n",
       "      <td>25488</td>\n",
       "    </tr>\n",
       "  </tbody>\n",
       "</table>\n",
       "</div>"
      ],
      "text/plain": [
       "       id_prod        date session_id client_id\n",
       "count   679332      679332     679332    679332\n",
       "unique    3266         730     342315      8600\n",
       "top      1_369  2022-11-30   s_118668    c_1609\n",
       "freq      2252        1311         14     25488"
      ]
     },
     "execution_count": 19,
     "metadata": {},
     "output_type": "execute_result"
    }
   ],
   "source": [
    "transactions[\"date\"] = pd.to_datetime(transactions[\"date\"]).dt.date\n",
    "transactions.describe(include=\"all\")"
   ]
  },
  {
   "cell_type": "code",
   "execution_count": 20,
   "metadata": {},
   "outputs": [
    {
     "data": {
      "text/plain": [
       "id_prod       0\n",
       "date          0\n",
       "session_id    0\n",
       "client_id     0\n",
       "dtype: int64"
      ]
     },
     "execution_count": 20,
     "metadata": {},
     "output_type": "execute_result"
    }
   ],
   "source": [
    "transactions.isnull().sum()"
   ]
  },
  {
   "cell_type": "markdown",
   "metadata": {},
   "source": [
    "# FUSION DES DATAFRAMES"
   ]
  },
  {
   "cell_type": "code",
   "execution_count": 21,
   "metadata": {},
   "outputs": [
    {
     "data": {
      "text/html": [
       "<div>\n",
       "<style scoped>\n",
       "    .dataframe tbody tr th:only-of-type {\n",
       "        vertical-align: middle;\n",
       "    }\n",
       "\n",
       "    .dataframe tbody tr th {\n",
       "        vertical-align: top;\n",
       "    }\n",
       "\n",
       "    .dataframe thead th {\n",
       "        text-align: right;\n",
       "    }\n",
       "</style>\n",
       "<table border=\"1\" class=\"dataframe\">\n",
       "  <thead>\n",
       "    <tr style=\"text-align: right;\">\n",
       "      <th></th>\n",
       "      <th>id_prod</th>\n",
       "      <th>price</th>\n",
       "      <th>categ</th>\n",
       "      <th>date</th>\n",
       "      <th>session_id</th>\n",
       "      <th>client_id</th>\n",
       "      <th>sex</th>\n",
       "      <th>birth</th>\n",
       "    </tr>\n",
       "  </thead>\n",
       "  <tbody>\n",
       "    <tr>\n",
       "      <th>0</th>\n",
       "      <td>0_1518</td>\n",
       "      <td>4.18</td>\n",
       "      <td>0.0</td>\n",
       "      <td>2022-05-20</td>\n",
       "      <td>s_211425</td>\n",
       "      <td>c_103</td>\n",
       "      <td>f</td>\n",
       "      <td>1986</td>\n",
       "    </tr>\n",
       "    <tr>\n",
       "      <th>1</th>\n",
       "      <td>0_1518</td>\n",
       "      <td>4.18</td>\n",
       "      <td>0.0</td>\n",
       "      <td>2021-09-26</td>\n",
       "      <td>s_95811</td>\n",
       "      <td>c_6197</td>\n",
       "      <td>m</td>\n",
       "      <td>1985</td>\n",
       "    </tr>\n",
       "    <tr>\n",
       "      <th>2</th>\n",
       "      <td>0_1518</td>\n",
       "      <td>4.18</td>\n",
       "      <td>0.0</td>\n",
       "      <td>2021-05-06</td>\n",
       "      <td>s_30782</td>\n",
       "      <td>c_682</td>\n",
       "      <td>f</td>\n",
       "      <td>1974</td>\n",
       "    </tr>\n",
       "    <tr>\n",
       "      <th>3</th>\n",
       "      <td>0_1518</td>\n",
       "      <td>4.18</td>\n",
       "      <td>0.0</td>\n",
       "      <td>2022-03-16</td>\n",
       "      <td>s_180057</td>\n",
       "      <td>c_5932</td>\n",
       "      <td>f</td>\n",
       "      <td>1962</td>\n",
       "    </tr>\n",
       "    <tr>\n",
       "      <th>4</th>\n",
       "      <td>0_1518</td>\n",
       "      <td>4.18</td>\n",
       "      <td>0.0</td>\n",
       "      <td>2022-11-12</td>\n",
       "      <td>s_296584</td>\n",
       "      <td>c_7217</td>\n",
       "      <td>f</td>\n",
       "      <td>1976</td>\n",
       "    </tr>\n",
       "  </tbody>\n",
       "</table>\n",
       "</div>"
      ],
      "text/plain": [
       "  id_prod  price  categ        date session_id client_id sex  birth\n",
       "0  0_1518   4.18    0.0  2022-05-20   s_211425     c_103   f   1986\n",
       "1  0_1518   4.18    0.0  2021-09-26    s_95811    c_6197   m   1985\n",
       "2  0_1518   4.18    0.0  2021-05-06    s_30782     c_682   f   1974\n",
       "3  0_1518   4.18    0.0  2022-03-16   s_180057    c_5932   f   1962\n",
       "4  0_1518   4.18    0.0  2022-11-12   s_296584    c_7217   f   1976"
      ]
     },
     "execution_count": 21,
     "metadata": {},
     "output_type": "execute_result"
    }
   ],
   "source": [
    "# Fusion de products et transactions sur la colonne 'id_prod'\n",
    "df1 = pd.merge(products, transactions, on=\"id_prod\", how='right')\n",
    "df1 = df1.dropna()\n",
    "\n",
    "# Fusion de erp_liaison et web sur la colonne 'id_web'\n",
    "df = pd.merge(df1, customers, on=\"client_id\", how='left')\n",
    "df.head()"
   ]
  },
  {
   "cell_type": "code",
   "execution_count": 22,
   "metadata": {},
   "outputs": [
    {
     "data": {
      "text/plain": [
       "id_prod       0\n",
       "price         0\n",
       "categ         0\n",
       "date          0\n",
       "session_id    0\n",
       "client_id     0\n",
       "sex           0\n",
       "birth         0\n",
       "dtype: int64"
      ]
     },
     "execution_count": 22,
     "metadata": {},
     "output_type": "execute_result"
    }
   ],
   "source": [
    "df.isnull().sum()"
   ]
  },
  {
   "cell_type": "markdown",
   "metadata": {},
   "source": [
    "# PARTIE 1 : "
   ]
  },
  {
   "cell_type": "markdown",
   "metadata": {},
   "source": [
    "# CHIFFRE D'AFFAIRES "
   ]
  },
  {
   "cell_type": "markdown",
   "metadata": {},
   "source": [
    "## DÉCOMPOSITION DE LA DATE "
   ]
  },
  {
   "cell_type": "code",
   "execution_count": 23,
   "metadata": {},
   "outputs": [],
   "source": [
    "df.insert(4, 'year', pd.to_datetime(df[\"date\"]).dt.year)\n",
    "df.insert(5, 'month', pd.to_datetime(df[\"date\"]).dt.month)\n",
    "df.insert(10, 'age', 2021 - df[\"birth\"])"
   ]
  },
  {
   "cell_type": "code",
   "execution_count": 24,
   "metadata": {},
   "outputs": [
    {
     "data": {
      "text/html": [
       "<div>\n",
       "<style scoped>\n",
       "    .dataframe tbody tr th:only-of-type {\n",
       "        vertical-align: middle;\n",
       "    }\n",
       "\n",
       "    .dataframe tbody tr th {\n",
       "        vertical-align: top;\n",
       "    }\n",
       "\n",
       "    .dataframe thead th {\n",
       "        text-align: right;\n",
       "    }\n",
       "</style>\n",
       "<table border=\"1\" class=\"dataframe\">\n",
       "  <thead>\n",
       "    <tr style=\"text-align: right;\">\n",
       "      <th></th>\n",
       "      <th>id_prod</th>\n",
       "      <th>price</th>\n",
       "      <th>categ</th>\n",
       "      <th>year</th>\n",
       "      <th>month</th>\n",
       "      <th>session_id</th>\n",
       "      <th>client_id</th>\n",
       "      <th>sex</th>\n",
       "      <th>birth</th>\n",
       "      <th>age</th>\n",
       "    </tr>\n",
       "    <tr>\n",
       "      <th>date</th>\n",
       "      <th></th>\n",
       "      <th></th>\n",
       "      <th></th>\n",
       "      <th></th>\n",
       "      <th></th>\n",
       "      <th></th>\n",
       "      <th></th>\n",
       "      <th></th>\n",
       "      <th></th>\n",
       "      <th></th>\n",
       "    </tr>\n",
       "  </thead>\n",
       "  <tbody>\n",
       "    <tr>\n",
       "      <th>2021-03-01</th>\n",
       "      <td>0_1685</td>\n",
       "      <td>9.99</td>\n",
       "      <td>0.0</td>\n",
       "      <td>2021</td>\n",
       "      <td>3</td>\n",
       "      <td>s_199</td>\n",
       "      <td>c_3946</td>\n",
       "      <td>f</td>\n",
       "      <td>1956</td>\n",
       "      <td>65</td>\n",
       "    </tr>\n",
       "    <tr>\n",
       "      <th>2021-03-01</th>\n",
       "      <td>0_1536</td>\n",
       "      <td>6.59</td>\n",
       "      <td>0.0</td>\n",
       "      <td>2021</td>\n",
       "      <td>3</td>\n",
       "      <td>s_98</td>\n",
       "      <td>c_3590</td>\n",
       "      <td>m</td>\n",
       "      <td>1997</td>\n",
       "      <td>24</td>\n",
       "    </tr>\n",
       "    <tr>\n",
       "      <th>2021-03-01</th>\n",
       "      <td>1_160</td>\n",
       "      <td>18.21</td>\n",
       "      <td>1.0</td>\n",
       "      <td>2021</td>\n",
       "      <td>3</td>\n",
       "      <td>s_424</td>\n",
       "      <td>c_5253</td>\n",
       "      <td>f</td>\n",
       "      <td>1996</td>\n",
       "      <td>25</td>\n",
       "    </tr>\n",
       "    <tr>\n",
       "      <th>2021-03-01</th>\n",
       "      <td>0_1999</td>\n",
       "      <td>12.99</td>\n",
       "      <td>0.0</td>\n",
       "      <td>2021</td>\n",
       "      <td>3</td>\n",
       "      <td>s_34</td>\n",
       "      <td>c_2285</td>\n",
       "      <td>f</td>\n",
       "      <td>1977</td>\n",
       "      <td>44</td>\n",
       "    </tr>\n",
       "    <tr>\n",
       "      <th>2021-03-01</th>\n",
       "      <td>0_2056</td>\n",
       "      <td>5.13</td>\n",
       "      <td>0.0</td>\n",
       "      <td>2021</td>\n",
       "      <td>3</td>\n",
       "      <td>s_238</td>\n",
       "      <td>c_7670</td>\n",
       "      <td>f</td>\n",
       "      <td>1984</td>\n",
       "      <td>37</td>\n",
       "    </tr>\n",
       "  </tbody>\n",
       "</table>\n",
       "</div>"
      ],
      "text/plain": [
       "           id_prod  price  categ  year  month session_id client_id sex  birth  \\\n",
       "date                                                                            \n",
       "2021-03-01  0_1685   9.99    0.0  2021      3      s_199    c_3946   f   1956   \n",
       "2021-03-01  0_1536   6.59    0.0  2021      3       s_98    c_3590   m   1997   \n",
       "2021-03-01   1_160  18.21    1.0  2021      3      s_424    c_5253   f   1996   \n",
       "2021-03-01  0_1999  12.99    0.0  2021      3       s_34    c_2285   f   1977   \n",
       "2021-03-01  0_2056   5.13    0.0  2021      3      s_238    c_7670   f   1984   \n",
       "\n",
       "            age  \n",
       "date             \n",
       "2021-03-01   65  \n",
       "2021-03-01   24  \n",
       "2021-03-01   25  \n",
       "2021-03-01   44  \n",
       "2021-03-01   37  "
      ]
     },
     "execution_count": 24,
     "metadata": {},
     "output_type": "execute_result"
    }
   ],
   "source": [
    "df[\"date\"] = df[\"date\"].astype('datetime64[ns]')\n",
    "df = df.sort_values(by=['date']).set_index('date')\n",
    "df.head()"
   ]
  },
  {
   "cell_type": "code",
   "execution_count": 25,
   "metadata": {},
   "outputs": [
    {
     "data": {
      "text/html": [
       "<div>\n",
       "<style scoped>\n",
       "    .dataframe tbody tr th:only-of-type {\n",
       "        vertical-align: middle;\n",
       "    }\n",
       "\n",
       "    .dataframe tbody tr th {\n",
       "        vertical-align: top;\n",
       "    }\n",
       "\n",
       "    .dataframe thead th {\n",
       "        text-align: right;\n",
       "    }\n",
       "</style>\n",
       "<table border=\"1\" class=\"dataframe\">\n",
       "  <thead>\n",
       "    <tr style=\"text-align: right;\">\n",
       "      <th></th>\n",
       "      <th>id_prod</th>\n",
       "      <th>price</th>\n",
       "      <th>categ</th>\n",
       "      <th>year</th>\n",
       "      <th>month</th>\n",
       "      <th>session_id</th>\n",
       "      <th>client_id</th>\n",
       "      <th>sex</th>\n",
       "      <th>birth</th>\n",
       "      <th>age</th>\n",
       "    </tr>\n",
       "  </thead>\n",
       "  <tbody>\n",
       "    <tr>\n",
       "      <th>count</th>\n",
       "      <td>679111</td>\n",
       "      <td>679111.000000</td>\n",
       "      <td>679111.000000</td>\n",
       "      <td>679111.000000</td>\n",
       "      <td>679111.000000</td>\n",
       "      <td>679111</td>\n",
       "      <td>679111</td>\n",
       "      <td>679111</td>\n",
       "      <td>679111.000000</td>\n",
       "      <td>679111.000000</td>\n",
       "    </tr>\n",
       "    <tr>\n",
       "      <th>unique</th>\n",
       "      <td>3265</td>\n",
       "      <td>NaN</td>\n",
       "      <td>NaN</td>\n",
       "      <td>NaN</td>\n",
       "      <td>NaN</td>\n",
       "      <td>342275</td>\n",
       "      <td>8600</td>\n",
       "      <td>2</td>\n",
       "      <td>NaN</td>\n",
       "      <td>NaN</td>\n",
       "    </tr>\n",
       "    <tr>\n",
       "      <th>top</th>\n",
       "      <td>1_369</td>\n",
       "      <td>NaN</td>\n",
       "      <td>NaN</td>\n",
       "      <td>NaN</td>\n",
       "      <td>NaN</td>\n",
       "      <td>s_118668</td>\n",
       "      <td>c_1609</td>\n",
       "      <td>m</td>\n",
       "      <td>NaN</td>\n",
       "      <td>NaN</td>\n",
       "    </tr>\n",
       "    <tr>\n",
       "      <th>freq</th>\n",
       "      <td>2252</td>\n",
       "      <td>NaN</td>\n",
       "      <td>NaN</td>\n",
       "      <td>NaN</td>\n",
       "      <td>NaN</td>\n",
       "      <td>14</td>\n",
       "      <td>25488</td>\n",
       "      <td>340826</td>\n",
       "      <td>NaN</td>\n",
       "      <td>NaN</td>\n",
       "    </tr>\n",
       "    <tr>\n",
       "      <th>mean</th>\n",
       "      <td>NaN</td>\n",
       "      <td>17.454773</td>\n",
       "      <td>0.441953</td>\n",
       "      <td>2021.670503</td>\n",
       "      <td>6.504383</td>\n",
       "      <td>NaN</td>\n",
       "      <td>NaN</td>\n",
       "      <td>NaN</td>\n",
       "      <td>1977.811149</td>\n",
       "      <td>43.188851</td>\n",
       "    </tr>\n",
       "    <tr>\n",
       "      <th>std</th>\n",
       "      <td>NaN</td>\n",
       "      <td>18.328998</td>\n",
       "      <td>0.595042</td>\n",
       "      <td>0.617562</td>\n",
       "      <td>3.480774</td>\n",
       "      <td>NaN</td>\n",
       "      <td>NaN</td>\n",
       "      <td>NaN</td>\n",
       "      <td>13.575361</td>\n",
       "      <td>13.575361</td>\n",
       "    </tr>\n",
       "    <tr>\n",
       "      <th>min</th>\n",
       "      <td>NaN</td>\n",
       "      <td>0.620000</td>\n",
       "      <td>0.000000</td>\n",
       "      <td>2021.000000</td>\n",
       "      <td>1.000000</td>\n",
       "      <td>NaN</td>\n",
       "      <td>NaN</td>\n",
       "      <td>NaN</td>\n",
       "      <td>1929.000000</td>\n",
       "      <td>17.000000</td>\n",
       "    </tr>\n",
       "    <tr>\n",
       "      <th>25%</th>\n",
       "      <td>NaN</td>\n",
       "      <td>8.870000</td>\n",
       "      <td>0.000000</td>\n",
       "      <td>2021.000000</td>\n",
       "      <td>3.000000</td>\n",
       "      <td>NaN</td>\n",
       "      <td>NaN</td>\n",
       "      <td>NaN</td>\n",
       "      <td>1970.000000</td>\n",
       "      <td>34.000000</td>\n",
       "    </tr>\n",
       "    <tr>\n",
       "      <th>50%</th>\n",
       "      <td>NaN</td>\n",
       "      <td>13.990000</td>\n",
       "      <td>0.000000</td>\n",
       "      <td>2022.000000</td>\n",
       "      <td>6.000000</td>\n",
       "      <td>NaN</td>\n",
       "      <td>NaN</td>\n",
       "      <td>NaN</td>\n",
       "      <td>1980.000000</td>\n",
       "      <td>41.000000</td>\n",
       "    </tr>\n",
       "    <tr>\n",
       "      <th>75%</th>\n",
       "      <td>NaN</td>\n",
       "      <td>18.990000</td>\n",
       "      <td>1.000000</td>\n",
       "      <td>2022.000000</td>\n",
       "      <td>9.000000</td>\n",
       "      <td>NaN</td>\n",
       "      <td>NaN</td>\n",
       "      <td>NaN</td>\n",
       "      <td>1987.000000</td>\n",
       "      <td>51.000000</td>\n",
       "    </tr>\n",
       "    <tr>\n",
       "      <th>max</th>\n",
       "      <td>NaN</td>\n",
       "      <td>300.000000</td>\n",
       "      <td>2.000000</td>\n",
       "      <td>2023.000000</td>\n",
       "      <td>12.000000</td>\n",
       "      <td>NaN</td>\n",
       "      <td>NaN</td>\n",
       "      <td>NaN</td>\n",
       "      <td>2004.000000</td>\n",
       "      <td>92.000000</td>\n",
       "    </tr>\n",
       "  </tbody>\n",
       "</table>\n",
       "</div>"
      ],
      "text/plain": [
       "       id_prod          price          categ           year          month  \\\n",
       "count   679111  679111.000000  679111.000000  679111.000000  679111.000000   \n",
       "unique    3265            NaN            NaN            NaN            NaN   \n",
       "top      1_369            NaN            NaN            NaN            NaN   \n",
       "freq      2252            NaN            NaN            NaN            NaN   \n",
       "mean       NaN      17.454773       0.441953    2021.670503       6.504383   \n",
       "std        NaN      18.328998       0.595042       0.617562       3.480774   \n",
       "min        NaN       0.620000       0.000000    2021.000000       1.000000   \n",
       "25%        NaN       8.870000       0.000000    2021.000000       3.000000   \n",
       "50%        NaN      13.990000       0.000000    2022.000000       6.000000   \n",
       "75%        NaN      18.990000       1.000000    2022.000000       9.000000   \n",
       "max        NaN     300.000000       2.000000    2023.000000      12.000000   \n",
       "\n",
       "       session_id client_id     sex          birth            age  \n",
       "count      679111    679111  679111  679111.000000  679111.000000  \n",
       "unique     342275      8600       2            NaN            NaN  \n",
       "top      s_118668    c_1609       m            NaN            NaN  \n",
       "freq           14     25488  340826            NaN            NaN  \n",
       "mean          NaN       NaN     NaN    1977.811149      43.188851  \n",
       "std           NaN       NaN     NaN      13.575361      13.575361  \n",
       "min           NaN       NaN     NaN    1929.000000      17.000000  \n",
       "25%           NaN       NaN     NaN    1970.000000      34.000000  \n",
       "50%           NaN       NaN     NaN    1980.000000      41.000000  \n",
       "75%           NaN       NaN     NaN    1987.000000      51.000000  \n",
       "max           NaN       NaN     NaN    2004.000000      92.000000  "
      ]
     },
     "execution_count": 25,
     "metadata": {},
     "output_type": "execute_result"
    }
   ],
   "source": [
    "df.describe(include='all')"
   ]
  },
  {
   "cell_type": "markdown",
   "metadata": {},
   "source": [
    "## DÉTERMINATION DE LA PÉRIODE D'ÉTUDE"
   ]
  },
  {
   "cell_type": "code",
   "execution_count": 26,
   "metadata": {},
   "outputs": [
    {
     "name": "stdout",
     "output_type": "stream",
     "text": [
      "Date de début = 2021-03-01 Date de fin = 2023-02-28\n",
      "Notre étude est réalisé sur une période de 729 jours. Soit 2 ans\n"
     ]
    }
   ],
   "source": [
    "#df[\"date\"] = df[\"date\"].astype('datetime64[ns]')\n",
    "df.dtypes\n",
    "mindate = df.index.min().date()\n",
    "maxdate = df.index.max().date()\n",
    "duree = (maxdate-mindate).days\n",
    "\n",
    "print('Date de début =', mindate, 'Date de fin =', maxdate)\n",
    "print('Notre étude est réalisé sur une période de', \n",
    "     duree, 'jours. Soit', round(duree/365), 'ans')"
   ]
  },
  {
   "cell_type": "markdown",
   "metadata": {},
   "source": [
    "## ÉVOLUTION DU CHIFFRE D'AFFAIRES PAR MOIS"
   ]
  },
  {
   "cell_type": "code",
   "execution_count": 27,
   "metadata": {},
   "outputs": [
    {
     "data": {
      "image/png": "[encoded data removed]",
      "text/plain": [
       "<Figure size 1368x432 with 1 Axes>"
      ]
     },
     "metadata": {},
     "output_type": "display_data"
    }
   ],
   "source": [
    "CA_monthly = df.groupby(['year', 'month', 'categ']).sum().astype('int')[[\"price\"]]\n",
    "\n",
    "ax = plt.style.use('fivethirtyeight')\n",
    "ax = CA_monthly.unstack().plot(kind='bar', stacked=True, \n",
    "                               figsize=(19, 6))\n",
    "ax = plt.xlabel('(année, mois)', fontsize=15)\n",
    "ax = plt.ylabel('Chiffre d\\'affaires en €', fontsize=15)\n",
    "ax = plt.title('Évolution mensuelle du Chiffre d\\'affaires par catégorie', fontsize=25, \n",
    "               fontweight='bold')\n",
    "\n",
    "ax = plt.legend(loc='upper left', bbox_to_anchor=(1,1), ncol=1, \n",
    "                title='catégories')\n",
    "\n",
    "#for rec in ax.patches:\n",
    "#    height = rec.get_height()\n",
    "#    ax.text(rec.get_x() + rec.get_width() / 2, \n",
    "#              rec.get_y() + height / 2,\n",
    "#              \"{:.0f}%\".format(height),\n",
    "#              ha='center', \n",
    "#              va='bottom')\n",
    "    \n",
    "ax = plt.show()"
   ]
  },
  {
   "cell_type": "markdown",
   "metadata": {},
   "source": [
    "## SÉRIE TEMPORELLE + MOYENNE MOBILE POUR CHIFFRE D'AFFAIRES"
   ]
  },
  {
   "cell_type": "code",
   "execution_count": 28,
   "metadata": {},
   "outputs": [
    {
     "data": {
      "image/png": "[encoded data removed]",
      "text/plain": [
       "<Figure size 1224x432 with 1 Axes>"
      ]
     },
     "metadata": {},
     "output_type": "display_data"
    }
   ],
   "source": [
    "# Évolution mensuelle du CA\n",
    "y = df['price'].resample('1M').sum()\n",
    "\n",
    "# Calculs de qq moyennes moyennes mobiles\n",
    "y_2M_rol = y.to_frame().rolling(window=2, center=True).mean()\n",
    "y_3M_rol = y.to_frame().rolling(window=3, center=True).mean()\n",
    "y_4M_rol = y.to_frame().rolling(window=4, center=True).mean()\n",
    "\n",
    "ax = plt.style.use('fivethirtyeight')\n",
    "fig=plt.figure(figsize=(17, 6))\n",
    "ax=plt.plot(y, 'r', marker='o', markersize=6, label='1-month')\n",
    "ax=plt.plot(y_2M_rol, 'b', label='MM2-month')\n",
    "#ax=plt.plot(y_3M_rol, 'g', label='MM3-month')\n",
    "ax=plt.plot(y_4M_rol, 'k', label='MM4-month')\n",
    "ax=plt.title('Évolution du chiffre d\\'affaires', fontsize=25, fontweight='bold')\n",
    "ax=plt.xlabel('Date', fontsize=15)\n",
    "ax=plt.ylabel('Chiffre d\\'affaires en €', fontsize=15)\n",
    "\n",
    "ax=plt.legend(loc='upper left', bbox_to_anchor=(1,1), ncol=1, \n",
    "                title='Moyennes mobiles')\n",
    "\n",
    "plt.show()"
   ]
  },
  {
   "cell_type": "markdown",
   "metadata": {},
   "source": [
    "## CHUTE DU CHIFFRE D'AFFAIRES OCTOBRE 2021 POUR LA CATEG 1"
   ]
  },
  {
   "cell_type": "code",
   "execution_count": 29,
   "metadata": {},
   "outputs": [
    {
     "data": {
      "image/png": "[encoded data removed]",
      "text/plain": [
       "<Figure size 1224x432 with 1 Axes>"
      ]
     },
     "metadata": {},
     "output_type": "display_data"
    }
   ],
   "source": [
    "oct_2021_categ1 = df[df['categ'] == 1]\n",
    "y = oct_2021_categ1.loc['2021-10'][['price']].resample('d').sum()\n",
    "\n",
    "ax = plt.style.use('fivethirtyeight')\n",
    "fig = plt.figure(figsize=(17, 6))\n",
    "ax = plt.plot(y, 'r', marker='o', markersize=6, label='CA')\n",
    "ax = plt.title('Évolution du chiffre d\\'affaires 10/2021 pour la catégorie 1', \n",
    "               fontsize=25, fontweight='bold')\n",
    "ax = plt.xlabel('Date', fontsize=15)\n",
    "ax = plt.ylabel('Chiffre d\\'affaires en €', fontsize=15)\n",
    "ax = plt.legend(loc='upper left', bbox_to_anchor=(1,1), ncol=1)\n",
    "\n",
    "# Annotation des dates de début et fin du CA = 0\n",
    "start0 = y.index[1].strftime('%Y-%m-%d')\n",
    "end0 = y.index[-5].strftime('%Y-%m-%d')\n",
    "\n",
    "plt.show()"
   ]
  },
  {
   "cell_type": "markdown",
   "metadata": {},
   "source": [
    "# RÉPARTITION DU CHIFFRE D'AFFAIRES PAR CATÉGORIES"
   ]
  },
  {
   "cell_type": "code",
   "execution_count": 30,
   "metadata": {},
   "outputs": [],
   "source": [
    "Nb_Ventes_categ = df['categ'].value_counts().tolist()\n",
    "#Nb_Ventes_categ"
   ]
  },
  {
   "cell_type": "code",
   "execution_count": 31,
   "metadata": {},
   "outputs": [
    {
     "data": {
      "image/png": "[encoded data removed]",
      "text/plain": [
       "<Figure size 1368x432 with 1 Axes>"
      ]
     },
     "metadata": {},
     "output_type": "display_data"
    }
   ],
   "source": [
    "CA_categ = df.groupby(['categ']).sum()[\"price\"].tolist()\n",
    "CA_categ = [round((i / 1000000), 2) for i in CA_categ]\n",
    "\n",
    "labels = df.groupby(['categ']).sum()[[\"price\"]].index.tolist()\n",
    "CA_categ\n",
    "\n",
    "fig1, ax1 = plt.subplots(figsize=(19, 6))\n",
    "ax1.pie(CA_categ, labels=labels, \n",
    "        autopct=lambda p:f'{p:.2f}%   ({p*sum(CA_categ)/100 :.2f})',\n",
    "        shadow=True, startangle=90)\n",
    "ax1.axis('equal')\n",
    "ax1.set_title('Répartition du chiffre d\\'affaires par catégories'\n",
    "             '\\n entre Mars 2021 et Février 2023 (millions €)',\n",
    "             fontsize=25, fontweight='bold')\n",
    "\n",
    "plt.show()"
   ]
  },
  {
   "cell_type": "markdown",
   "metadata": {},
   "source": [
    "## RÉPARTITION DES PRIX PAR CATÉGORIE "
   ]
  },
  {
   "cell_type": "code",
   "execution_count": 32,
   "metadata": {},
   "outputs": [
    {
     "data": {
      "image/png": "[encoded data removed]",
      "text/plain": [
       "<Figure size 1368x432 with 1 Axes>"
      ]
     },
     "metadata": {},
     "output_type": "display_data"
    }
   ],
   "source": [
    "X = 'categ' # qualitative\n",
    "Y = 'price' # quantitative\n",
    "\n",
    "modalites = df[X].unique()\n",
    "groupes = []\n",
    "for m in modalites:\n",
    "    groupes.append(df[df[X] == m][Y])\n",
    "    \n",
    "# Propriétés graphiques (pas très importantes)    \n",
    "medianprops = {'color':\"black\"}\n",
    "meanprops = {'marker':'o', 'markeredgecolor':'black',\n",
    "            'markerfacecolor':'firebrick'}\n",
    "    \n",
    "plt.figure(figsize=(19, 6))    \n",
    "plt.boxplot(groupes, labels=modalites, showfliers=False, medianprops=medianprops,\n",
    "            patch_artist=True, showmeans=True, meanprops=meanprops)\n",
    "plt.title('Dispersion des prix par catégorie', fontsize=25, fontweight='bold')\n",
    "plt.xlabel('catégorie', fontsize=15)\n",
    "plt.ylabel('Prix', fontsize=15)\n",
    "\n",
    "plt.show()"
   ]
  },
  {
   "cell_type": "markdown",
   "metadata": {},
   "source": [
    "## CALCUL DU RAPPORT DE CORRÉLATION"
   ]
  },
  {
   "cell_type": "code",
   "execution_count": 33,
   "metadata": {},
   "outputs": [],
   "source": [
    "def eta_squared(x,y):\n",
    "    moyenne_y = y.mean()\n",
    "    classes = []\n",
    "    for classe in x.unique():\n",
    "        yi_classe = y[x==classe]\n",
    "        classes.append({'ni': len(yi_classe),\n",
    "                        'moyenne_classe': yi_classe.mean()})\n",
    "    SCT = sum([(yj-moyenne_y)**2 for yj in y])\n",
    "    SCE = sum([c['ni']*(c['moyenne_classe']-moyenne_y)**2 for c in classes])\n",
    "    return SCE/SCT"
   ]
  },
  {
   "cell_type": "code",
   "execution_count": 34,
   "metadata": {},
   "outputs": [
    {
     "data": {
      "text/plain": [
       "0.6457472738640962"
      ]
     },
     "execution_count": 34,
     "metadata": {},
     "output_type": "execute_result"
    }
   ],
   "source": [
    "eta_squared(df['categ'], df['price'])"
   ]
  },
  {
   "cell_type": "markdown",
   "metadata": {},
   "source": [
    "# TOP ET FLOP DES VENTES DE PRODUITS"
   ]
  },
  {
   "cell_type": "code",
   "execution_count": 35,
   "metadata": {},
   "outputs": [],
   "source": [
    "#cat = df.set_index('id_prod')\n",
    "cat = df.groupby(['id_prod']).sum()\n",
    "cat.reset_index(inplace=True)\n",
    "cat = cat.rename(columns={'price': 'Total des ventes €'})\n",
    "cat = cat[['id_prod', 'Total des ventes €']]\n",
    "\n",
    "cat_counts = df['id_prod'].value_counts().to_frame()\n",
    "cat_counts.reset_index(inplace=True)\n",
    "cat_counts = cat_counts.rename(columns={'index': 'id_prod',\n",
    "                                    'id_prod': 'Nombre de ventes'})\n",
    "\n",
    "cat_df=pd.merge(cat, cat_counts, on='id_prod', how='left') \n",
    "cat_df['price'] = cat_df['Total des ventes €']/cat_df['Nombre de ventes']\n",
    "#cat_df.sort_values(by=['Total des ventes €'])"
   ]
  },
  {
   "cell_type": "code",
   "execution_count": 36,
   "metadata": {},
   "outputs": [
    {
     "data": {
      "text/html": [
       "<div>\n",
       "<style scoped>\n",
       "    .dataframe tbody tr th:only-of-type {\n",
       "        vertical-align: middle;\n",
       "    }\n",
       "\n",
       "    .dataframe tbody tr th {\n",
       "        vertical-align: top;\n",
       "    }\n",
       "\n",
       "    .dataframe thead th {\n",
       "        text-align: right;\n",
       "    }\n",
       "</style>\n",
       "<table border=\"1\" class=\"dataframe\">\n",
       "  <thead>\n",
       "    <tr style=\"text-align: right;\">\n",
       "      <th></th>\n",
       "      <th>id_prod</th>\n",
       "      <th>Total des ventes €</th>\n",
       "      <th>Nombre de ventes</th>\n",
       "      <th>price</th>\n",
       "    </tr>\n",
       "  </thead>\n",
       "  <tbody>\n",
       "    <tr>\n",
       "      <th>2591</th>\n",
       "      <td>1_369</td>\n",
       "      <td>54025.48</td>\n",
       "      <td>2252</td>\n",
       "      <td>23.99</td>\n",
       "    </tr>\n",
       "    <tr>\n",
       "      <th>2644</th>\n",
       "      <td>1_417</td>\n",
       "      <td>45947.11</td>\n",
       "      <td>2189</td>\n",
       "      <td>20.99</td>\n",
       "    </tr>\n",
       "    <tr>\n",
       "      <th>2641</th>\n",
       "      <td>1_414</td>\n",
       "      <td>51949.40</td>\n",
       "      <td>2180</td>\n",
       "      <td>23.83</td>\n",
       "    </tr>\n",
       "    <tr>\n",
       "      <th>2733</th>\n",
       "      <td>1_498</td>\n",
       "      <td>49731.36</td>\n",
       "      <td>2128</td>\n",
       "      <td>23.37</td>\n",
       "    </tr>\n",
       "    <tr>\n",
       "      <th>2653</th>\n",
       "      <td>1_425</td>\n",
       "      <td>35611.04</td>\n",
       "      <td>2096</td>\n",
       "      <td>16.99</td>\n",
       "    </tr>\n",
       "    <tr>\n",
       "      <th>2629</th>\n",
       "      <td>1_403</td>\n",
       "      <td>35260.40</td>\n",
       "      <td>1960</td>\n",
       "      <td>17.99</td>\n",
       "    </tr>\n",
       "    <tr>\n",
       "      <th>2639</th>\n",
       "      <td>1_412</td>\n",
       "      <td>32484.15</td>\n",
       "      <td>1951</td>\n",
       "      <td>16.65</td>\n",
       "    </tr>\n",
       "    <tr>\n",
       "      <th>2640</th>\n",
       "      <td>1_413</td>\n",
       "      <td>34990.55</td>\n",
       "      <td>1945</td>\n",
       "      <td>17.99</td>\n",
       "    </tr>\n",
       "    <tr>\n",
       "      <th>2632</th>\n",
       "      <td>1_406</td>\n",
       "      <td>48106.59</td>\n",
       "      <td>1939</td>\n",
       "      <td>24.81</td>\n",
       "    </tr>\n",
       "    <tr>\n",
       "      <th>2633</th>\n",
       "      <td>1_407</td>\n",
       "      <td>30940.65</td>\n",
       "      <td>1935</td>\n",
       "      <td>15.99</td>\n",
       "    </tr>\n",
       "    <tr>\n",
       "      <th>2620</th>\n",
       "      <td>1_396</td>\n",
       "      <td>35730.60</td>\n",
       "      <td>1921</td>\n",
       "      <td>18.60</td>\n",
       "    </tr>\n",
       "    <tr>\n",
       "      <th>2622</th>\n",
       "      <td>1_398</td>\n",
       "      <td>19495.89</td>\n",
       "      <td>1917</td>\n",
       "      <td>10.17</td>\n",
       "    </tr>\n",
       "    <tr>\n",
       "      <th>2619</th>\n",
       "      <td>1_395</td>\n",
       "      <td>54356.25</td>\n",
       "      <td>1875</td>\n",
       "      <td>28.99</td>\n",
       "    </tr>\n",
       "    <tr>\n",
       "      <th>2626</th>\n",
       "      <td>1_400</td>\n",
       "      <td>30527.40</td>\n",
       "      <td>1839</td>\n",
       "      <td>16.60</td>\n",
       "    </tr>\n",
       "    <tr>\n",
       "      <th>2617</th>\n",
       "      <td>1_392</td>\n",
       "      <td>33050.75</td>\n",
       "      <td>1825</td>\n",
       "      <td>18.11</td>\n",
       "    </tr>\n",
       "    <tr>\n",
       "      <th>2599</th>\n",
       "      <td>1_376</td>\n",
       "      <td>31639.41</td>\n",
       "      <td>1809</td>\n",
       "      <td>17.49</td>\n",
       "    </tr>\n",
       "    <tr>\n",
       "      <th>2621</th>\n",
       "      <td>1_397</td>\n",
       "      <td>34163.01</td>\n",
       "      <td>1799</td>\n",
       "      <td>18.99</td>\n",
       "    </tr>\n",
       "    <tr>\n",
       "      <th>2609</th>\n",
       "      <td>1_385</td>\n",
       "      <td>46730.02</td>\n",
       "      <td>1798</td>\n",
       "      <td>25.99</td>\n",
       "    </tr>\n",
       "    <tr>\n",
       "      <th>2612</th>\n",
       "      <td>1_388</td>\n",
       "      <td>29926.40</td>\n",
       "      <td>1792</td>\n",
       "      <td>16.70</td>\n",
       "    </tr>\n",
       "    <tr>\n",
       "      <th>2605</th>\n",
       "      <td>1_381</td>\n",
       "      <td>28478.19</td>\n",
       "      <td>1781</td>\n",
       "      <td>15.99</td>\n",
       "    </tr>\n",
       "  </tbody>\n",
       "</table>\n",
       "</div>"
      ],
      "text/plain": [
       "     id_prod  Total des ventes €  Nombre de ventes  price\n",
       "2591   1_369            54025.48              2252  23.99\n",
       "2644   1_417            45947.11              2189  20.99\n",
       "2641   1_414            51949.40              2180  23.83\n",
       "2733   1_498            49731.36              2128  23.37\n",
       "2653   1_425            35611.04              2096  16.99\n",
       "2629   1_403            35260.40              1960  17.99\n",
       "2639   1_412            32484.15              1951  16.65\n",
       "2640   1_413            34990.55              1945  17.99\n",
       "2632   1_406            48106.59              1939  24.81\n",
       "2633   1_407            30940.65              1935  15.99\n",
       "2620   1_396            35730.60              1921  18.60\n",
       "2622   1_398            19495.89              1917  10.17\n",
       "2619   1_395            54356.25              1875  28.99\n",
       "2626   1_400            30527.40              1839  16.60\n",
       "2617   1_392            33050.75              1825  18.11\n",
       "2599   1_376            31639.41              1809  17.49\n",
       "2621   1_397            34163.01              1799  18.99\n",
       "2609   1_385            46730.02              1798  25.99\n",
       "2612   1_388            29926.40              1792  16.70\n",
       "2605   1_381            28478.19              1781  15.99"
      ]
     },
     "execution_count": 36,
     "metadata": {},
     "output_type": "execute_result"
    }
   ],
   "source": [
    "# TOP 20 des produits les plus vendus\n",
    "cat_df_top = cat_df.sort_values(by='Nombre de ventes', ascending=False).head(20)\n",
    "cat_df_top"
   ]
  },
  {
   "cell_type": "code",
   "execution_count": 37,
   "metadata": {},
   "outputs": [
    {
     "data": {
      "text/html": [
       "<div>\n",
       "<style scoped>\n",
       "    .dataframe tbody tr th:only-of-type {\n",
       "        vertical-align: middle;\n",
       "    }\n",
       "\n",
       "    .dataframe tbody tr th {\n",
       "        vertical-align: top;\n",
       "    }\n",
       "\n",
       "    .dataframe thead th {\n",
       "        text-align: right;\n",
       "    }\n",
       "</style>\n",
       "<table border=\"1\" class=\"dataframe\">\n",
       "  <thead>\n",
       "    <tr style=\"text-align: right;\">\n",
       "      <th></th>\n",
       "      <th>id_prod</th>\n",
       "      <th>Total des ventes €</th>\n",
       "      <th>Nombre de ventes</th>\n",
       "      <th>price</th>\n",
       "    </tr>\n",
       "  </thead>\n",
       "  <tbody>\n",
       "    <tr>\n",
       "      <th>1327</th>\n",
       "      <td>0_2201</td>\n",
       "      <td>20.99</td>\n",
       "      <td>1</td>\n",
       "      <td>20.99</td>\n",
       "    </tr>\n",
       "    <tr>\n",
       "      <th>665</th>\n",
       "      <td>0_1601</td>\n",
       "      <td>1.99</td>\n",
       "      <td>1</td>\n",
       "      <td>1.99</td>\n",
       "    </tr>\n",
       "    <tr>\n",
       "      <th>1792</th>\n",
       "      <td>0_549</td>\n",
       "      <td>2.99</td>\n",
       "      <td>1</td>\n",
       "      <td>2.99</td>\n",
       "    </tr>\n",
       "    <tr>\n",
       "      <th>3247</th>\n",
       "      <td>2_81</td>\n",
       "      <td>86.99</td>\n",
       "      <td>1</td>\n",
       "      <td>86.99</td>\n",
       "    </tr>\n",
       "    <tr>\n",
       "      <th>2079</th>\n",
       "      <td>0_807</td>\n",
       "      <td>1.99</td>\n",
       "      <td>1</td>\n",
       "      <td>1.99</td>\n",
       "    </tr>\n",
       "    <tr>\n",
       "      <th>752</th>\n",
       "      <td>0_1683</td>\n",
       "      <td>2.99</td>\n",
       "      <td>1</td>\n",
       "      <td>2.99</td>\n",
       "    </tr>\n",
       "    <tr>\n",
       "      <th>166</th>\n",
       "      <td>0_1151</td>\n",
       "      <td>2.99</td>\n",
       "      <td>1</td>\n",
       "      <td>2.99</td>\n",
       "    </tr>\n",
       "    <tr>\n",
       "      <th>698</th>\n",
       "      <td>0_1633</td>\n",
       "      <td>24.99</td>\n",
       "      <td>1</td>\n",
       "      <td>24.99</td>\n",
       "    </tr>\n",
       "    <tr>\n",
       "      <th>2108</th>\n",
       "      <td>0_833</td>\n",
       "      <td>2.99</td>\n",
       "      <td>1</td>\n",
       "      <td>2.99</td>\n",
       "    </tr>\n",
       "    <tr>\n",
       "      <th>2166</th>\n",
       "      <td>0_886</td>\n",
       "      <td>21.82</td>\n",
       "      <td>1</td>\n",
       "      <td>21.82</td>\n",
       "    </tr>\n",
       "    <tr>\n",
       "      <th>1784</th>\n",
       "      <td>0_541</td>\n",
       "      <td>1.99</td>\n",
       "      <td>1</td>\n",
       "      <td>1.99</td>\n",
       "    </tr>\n",
       "    <tr>\n",
       "      <th>3175</th>\n",
       "      <td>2_23</td>\n",
       "      <td>115.99</td>\n",
       "      <td>1</td>\n",
       "      <td>115.99</td>\n",
       "    </tr>\n",
       "    <tr>\n",
       "      <th>417</th>\n",
       "      <td>0_1379</td>\n",
       "      <td>2.99</td>\n",
       "      <td>1</td>\n",
       "      <td>2.99</td>\n",
       "    </tr>\n",
       "    <tr>\n",
       "      <th>313</th>\n",
       "      <td>0_1284</td>\n",
       "      <td>1.38</td>\n",
       "      <td>1</td>\n",
       "      <td>1.38</td>\n",
       "    </tr>\n",
       "    <tr>\n",
       "      <th>3263</th>\n",
       "      <td>2_98</td>\n",
       "      <td>149.74</td>\n",
       "      <td>1</td>\n",
       "      <td>149.74</td>\n",
       "    </tr>\n",
       "    <tr>\n",
       "      <th>595</th>\n",
       "      <td>0_1539</td>\n",
       "      <td>0.99</td>\n",
       "      <td>1</td>\n",
       "      <td>0.99</td>\n",
       "    </tr>\n",
       "    <tr>\n",
       "      <th>802</th>\n",
       "      <td>0_1728</td>\n",
       "      <td>2.27</td>\n",
       "      <td>1</td>\n",
       "      <td>2.27</td>\n",
       "    </tr>\n",
       "    <tr>\n",
       "      <th>549</th>\n",
       "      <td>0_1498</td>\n",
       "      <td>2.48</td>\n",
       "      <td>1</td>\n",
       "      <td>2.48</td>\n",
       "    </tr>\n",
       "    <tr>\n",
       "      <th>2628</th>\n",
       "      <td>1_402</td>\n",
       "      <td>69.04</td>\n",
       "      <td>2</td>\n",
       "      <td>34.52</td>\n",
       "    </tr>\n",
       "    <tr>\n",
       "      <th>589</th>\n",
       "      <td>0_1533</td>\n",
       "      <td>55.98</td>\n",
       "      <td>2</td>\n",
       "      <td>27.99</td>\n",
       "    </tr>\n",
       "  </tbody>\n",
       "</table>\n",
       "</div>"
      ],
      "text/plain": [
       "     id_prod  Total des ventes €  Nombre de ventes   price\n",
       "1327  0_2201               20.99                 1   20.99\n",
       "665   0_1601                1.99                 1    1.99\n",
       "1792   0_549                2.99                 1    2.99\n",
       "3247    2_81               86.99                 1   86.99\n",
       "2079   0_807                1.99                 1    1.99\n",
       "752   0_1683                2.99                 1    2.99\n",
       "166   0_1151                2.99                 1    2.99\n",
       "698   0_1633               24.99                 1   24.99\n",
       "2108   0_833                2.99                 1    2.99\n",
       "2166   0_886               21.82                 1   21.82\n",
       "1784   0_541                1.99                 1    1.99\n",
       "3175    2_23              115.99                 1  115.99\n",
       "417   0_1379                2.99                 1    2.99\n",
       "313   0_1284                1.38                 1    1.38\n",
       "3263    2_98              149.74                 1  149.74\n",
       "595   0_1539                0.99                 1    0.99\n",
       "802   0_1728                2.27                 1    2.27\n",
       "549   0_1498                2.48                 1    2.48\n",
       "2628   1_402               69.04                 2   34.52\n",
       "589   0_1533               55.98                 2   27.99"
      ]
     },
     "execution_count": 37,
     "metadata": {},
     "output_type": "execute_result"
    }
   ],
   "source": [
    "# TOP 20 des produits les moins vendus\n",
    "cat_df_flop = cat_df.sort_values(by='Nombre de ventes').head(20)\n",
    "cat_df_flop"
   ]
  },
  {
   "cell_type": "markdown",
   "metadata": {},
   "source": [
    "# ÉTUDE DES CLIENTS PAR SEXE ET AGE"
   ]
  },
  {
   "cell_type": "markdown",
   "metadata": {},
   "source": [
    "## AJOUT DE LA COLONNE TRANCHE D'AGE"
   ]
  },
  {
   "cell_type": "code",
   "execution_count": 38,
   "metadata": {},
   "outputs": [],
   "source": [
    "cut_labels = ['moins de 18 ans', '18-29 ans', '30-39 ans', '40-49 ans',\n",
    "             '50-59 ans', '60-69 ans', '70-79 ans', '80 ans ou plus']\n",
    "cut_bins = [0, 17, 29, 39, 49, 59, 69, 79, 120]\n",
    "df['tranche_age'] = pd.cut(df['age'], bins=cut_bins, labels=cut_labels)"
   ]
  },
  {
   "cell_type": "code",
   "execution_count": 39,
   "metadata": {},
   "outputs": [
    {
     "data": {
      "text/html": [
       "<div>\n",
       "<style scoped>\n",
       "    .dataframe tbody tr th:only-of-type {\n",
       "        vertical-align: middle;\n",
       "    }\n",
       "\n",
       "    .dataframe tbody tr th {\n",
       "        vertical-align: top;\n",
       "    }\n",
       "\n",
       "    .dataframe thead th {\n",
       "        text-align: right;\n",
       "    }\n",
       "</style>\n",
       "<table border=\"1\" class=\"dataframe\">\n",
       "  <thead>\n",
       "    <tr style=\"text-align: right;\">\n",
       "      <th></th>\n",
       "      <th>id_prod</th>\n",
       "      <th>price</th>\n",
       "      <th>categ</th>\n",
       "      <th>year</th>\n",
       "      <th>month</th>\n",
       "      <th>session_id</th>\n",
       "      <th>client_id</th>\n",
       "      <th>sex</th>\n",
       "      <th>birth</th>\n",
       "      <th>age</th>\n",
       "      <th>tranche_age</th>\n",
       "    </tr>\n",
       "    <tr>\n",
       "      <th>date</th>\n",
       "      <th></th>\n",
       "      <th></th>\n",
       "      <th></th>\n",
       "      <th></th>\n",
       "      <th></th>\n",
       "      <th></th>\n",
       "      <th></th>\n",
       "      <th></th>\n",
       "      <th></th>\n",
       "      <th></th>\n",
       "      <th></th>\n",
       "    </tr>\n",
       "  </thead>\n",
       "  <tbody>\n",
       "    <tr>\n",
       "      <th>2021-03-01</th>\n",
       "      <td>0_1685</td>\n",
       "      <td>9.99</td>\n",
       "      <td>0.0</td>\n",
       "      <td>2021</td>\n",
       "      <td>3</td>\n",
       "      <td>s_199</td>\n",
       "      <td>c_3946</td>\n",
       "      <td>f</td>\n",
       "      <td>1956</td>\n",
       "      <td>65</td>\n",
       "      <td>60-69 ans</td>\n",
       "    </tr>\n",
       "    <tr>\n",
       "      <th>2021-03-01</th>\n",
       "      <td>0_1536</td>\n",
       "      <td>6.59</td>\n",
       "      <td>0.0</td>\n",
       "      <td>2021</td>\n",
       "      <td>3</td>\n",
       "      <td>s_98</td>\n",
       "      <td>c_3590</td>\n",
       "      <td>m</td>\n",
       "      <td>1997</td>\n",
       "      <td>24</td>\n",
       "      <td>18-29 ans</td>\n",
       "    </tr>\n",
       "    <tr>\n",
       "      <th>2021-03-01</th>\n",
       "      <td>1_160</td>\n",
       "      <td>18.21</td>\n",
       "      <td>1.0</td>\n",
       "      <td>2021</td>\n",
       "      <td>3</td>\n",
       "      <td>s_424</td>\n",
       "      <td>c_5253</td>\n",
       "      <td>f</td>\n",
       "      <td>1996</td>\n",
       "      <td>25</td>\n",
       "      <td>18-29 ans</td>\n",
       "    </tr>\n",
       "    <tr>\n",
       "      <th>2021-03-01</th>\n",
       "      <td>0_1999</td>\n",
       "      <td>12.99</td>\n",
       "      <td>0.0</td>\n",
       "      <td>2021</td>\n",
       "      <td>3</td>\n",
       "      <td>s_34</td>\n",
       "      <td>c_2285</td>\n",
       "      <td>f</td>\n",
       "      <td>1977</td>\n",
       "      <td>44</td>\n",
       "      <td>40-49 ans</td>\n",
       "    </tr>\n",
       "    <tr>\n",
       "      <th>2021-03-01</th>\n",
       "      <td>0_2056</td>\n",
       "      <td>5.13</td>\n",
       "      <td>0.0</td>\n",
       "      <td>2021</td>\n",
       "      <td>3</td>\n",
       "      <td>s_238</td>\n",
       "      <td>c_7670</td>\n",
       "      <td>f</td>\n",
       "      <td>1984</td>\n",
       "      <td>37</td>\n",
       "      <td>30-39 ans</td>\n",
       "    </tr>\n",
       "  </tbody>\n",
       "</table>\n",
       "</div>"
      ],
      "text/plain": [
       "           id_prod  price  categ  year  month session_id client_id sex  birth  \\\n",
       "date                                                                            \n",
       "2021-03-01  0_1685   9.99    0.0  2021      3      s_199    c_3946   f   1956   \n",
       "2021-03-01  0_1536   6.59    0.0  2021      3       s_98    c_3590   m   1997   \n",
       "2021-03-01   1_160  18.21    1.0  2021      3      s_424    c_5253   f   1996   \n",
       "2021-03-01  0_1999  12.99    0.0  2021      3       s_34    c_2285   f   1977   \n",
       "2021-03-01  0_2056   5.13    0.0  2021      3      s_238    c_7670   f   1984   \n",
       "\n",
       "            age tranche_age  \n",
       "date                         \n",
       "2021-03-01   65   60-69 ans  \n",
       "2021-03-01   24   18-29 ans  \n",
       "2021-03-01   25   18-29 ans  \n",
       "2021-03-01   44   40-49 ans  \n",
       "2021-03-01   37   30-39 ans  "
      ]
     },
     "execution_count": 39,
     "metadata": {},
     "output_type": "execute_result"
    }
   ],
   "source": [
    "df.head()"
   ]
  },
  {
   "cell_type": "markdown",
   "metadata": {},
   "source": [
    "## RÉPARTITION DES CLIENTS PAR SEX ET TRANCHE D'AGE"
   ]
  },
  {
   "cell_type": "code",
   "execution_count": 40,
   "metadata": {},
   "outputs": [
    {
     "data": {
      "image/png": "[encoded data removed]",
      "text/plain": [
       "<Figure size 1368x432 with 1 Axes>"
      ]
     },
     "metadata": {},
     "output_type": "display_data"
    }
   ],
   "source": [
    "# Clients par tranche d'age et sex\n",
    "# On regroupe les clients par age et sex puis on les compte\n",
    "clients = df.groupby(['tranche_age', 'sex']).count()[['age']]\n",
    "\n",
    "# Valeurs normalisées (pourcentage)\n",
    "clients = clients/clients.sum()\n",
    "\n",
    "# On crée notre dataframe\n",
    "clients = clients.reset_index(level='sex')\n",
    "femme = clients[clients['sex'] == 'f']['age']\n",
    "homme = clients[clients['sex'] == 'm']['age']\n",
    "femme.name = 'femme'\n",
    "homme.name = 'homme'\n",
    "clients = pd.concat([femme, homme], axis=1)\n",
    "\n",
    "ax = plt.style.use('fivethirtyeight')\n",
    "ax = clients.plot.barh(figsize=(19, 6))\n",
    "ax = plt.xlabel('Part des clients (%)', fontsize=15)\n",
    "ax = plt.title('Répartition des clients par age et genre', fontsize=25, \n",
    "               fontweight='bold')\n",
    "\n",
    "ax = plt.legend(loc='upper left', bbox_to_anchor=(1,1), ncol=1, \n",
    "                title='genre')"
   ]
  },
  {
   "cell_type": "markdown",
   "metadata": {},
   "source": [
    "## ÉTUDE DE LA RÉPARTITION DU CHIFFRE D'AFFAIRES PAR CLIENTS"
   ]
  },
  {
   "cell_type": "code",
   "execution_count": 41,
   "metadata": {},
   "outputs": [],
   "source": [
    "CA_clients = df.groupby('client_id').agg({'price': 'sum', \n",
    "                                          'sex': 'max', \n",
    "                                          'tranche_age': 'max'})\n",
    "\n",
    "CA_clients = CA_clients.reset_index()\n",
    "CA_clients = CA_clients.rename(columns={'price': 'Total_ventes'})\n",
    "Nb_Vente_clients = df['client_id'].value_counts().to_frame()\n",
    "Nb_Vente_clients = Nb_Vente_clients.reset_index()\n",
    "Nb_Vente_clients = Nb_Vente_clients.rename(columns={'index': 'client_id',\n",
    "                                                    'client_id': 'Nombre de Ventes'})\n",
    "\n",
    "# Fusion des dataframmes\n",
    "CA_clients_tot = pd.merge(CA_clients, Nb_Vente_clients, on='client_id')\n",
    "CA_clients_tot = CA_clients_tot.set_index('client_id')"
   ]
  },
  {
   "cell_type": "markdown",
   "metadata": {},
   "source": [
    "## COURBE DE LORENZ POUR LE CHIFFRE D'AFFAIRES"
   ]
  },
  {
   "cell_type": "code",
   "execution_count": 42,
   "metadata": {},
   "outputs": [
    {
     "data": {
      "text/plain": [
       "<matplotlib.legend.Legend at 0x7f9bfacfce50>"
      ]
     },
     "execution_count": 42,
     "metadata": {},
     "output_type": "execute_result"
    },
    {
     "data": {
      "image/png": "[encoded data removed]",
      "text/plain": [
       "<Figure size 432x432 with 1 Axes>"
      ]
     },
     "metadata": {},
     "output_type": "display_data"
    }
   ],
   "source": [
    "X = CA_clients_tot.sort_values('Total_ventes')['Total_ventes']\n",
    "\n",
    "X_lorenz = (X.cumsum() / X.sum()).array\n",
    "X_lorenz = np.insert(X_lorenz, 0, 0)\n",
    "\n",
    "#X_lorenz\n",
    "\n",
    "# x abscisse\n",
    "x=np.arange(X_lorenz.size)\n",
    "# axe x normalisé\n",
    "x=x/(X_lorenz.size-1)\n",
    "\n",
    "fig, ax = plt.subplots(figsize=(6, 6))\n",
    "## scatter plot of Lorenz curve\n",
    "ax.scatter(x, X_lorenz, \n",
    "           marker='x', color='darkgreen', s=100, label='courbe de Lorenz')\n",
    "## ligne d'égalité parfaite (tt le monde dépense la même qt)\n",
    "ax.plot([0,1], [0,1], color='k', label='Égalité parfaite')\n",
    "ax.set_title('Courbe de Lorenz appliquée au chiffre d\\'affaires', \n",
    "             fontsize=25, fontweight='bold')\n",
    "ax.set_xlabel('Part des clients', fontsize=15)\n",
    "ax.set_ylabel('Montant des dépenses (en €)', fontsize=15)\n",
    "\n",
    "ax.legend(loc='upper left', bbox_to_anchor=(1,1), ncol=1)"
   ]
  },
  {
   "cell_type": "markdown",
   "metadata": {},
   "source": [
    "## TRI DES CLIENTS SELON LEURS DÉPENSES TOTALES"
   ]
  },
  {
   "cell_type": "markdown",
   "metadata": {},
   "source": [
    "## TOP 10 DES CLIENTS LES MOINS DÉPENSIERS"
   ]
  },
  {
   "cell_type": "code",
   "execution_count": 43,
   "metadata": {},
   "outputs": [
    {
     "data": {
      "text/html": [
       "<div>\n",
       "<style scoped>\n",
       "    .dataframe tbody tr th:only-of-type {\n",
       "        vertical-align: middle;\n",
       "    }\n",
       "\n",
       "    .dataframe tbody tr th {\n",
       "        vertical-align: top;\n",
       "    }\n",
       "\n",
       "    .dataframe thead th {\n",
       "        text-align: right;\n",
       "    }\n",
       "</style>\n",
       "<table border=\"1\" class=\"dataframe\">\n",
       "  <thead>\n",
       "    <tr style=\"text-align: right;\">\n",
       "      <th></th>\n",
       "      <th>Total_ventes</th>\n",
       "      <th>sex</th>\n",
       "      <th>tranche_age</th>\n",
       "      <th>Nombre de Ventes</th>\n",
       "    </tr>\n",
       "    <tr>\n",
       "      <th>client_id</th>\n",
       "      <th></th>\n",
       "      <th></th>\n",
       "      <th></th>\n",
       "      <th></th>\n",
       "    </tr>\n",
       "  </thead>\n",
       "  <tbody>\n",
       "    <tr>\n",
       "      <th>c_8351</th>\n",
       "      <td>6.31</td>\n",
       "      <td>f</td>\n",
       "      <td>50-59 ans</td>\n",
       "      <td>1</td>\n",
       "    </tr>\n",
       "    <tr>\n",
       "      <th>c_8140</th>\n",
       "      <td>8.30</td>\n",
       "      <td>m</td>\n",
       "      <td>50-59 ans</td>\n",
       "      <td>2</td>\n",
       "    </tr>\n",
       "    <tr>\n",
       "      <th>c_8114</th>\n",
       "      <td>9.98</td>\n",
       "      <td>m</td>\n",
       "      <td>50-59 ans</td>\n",
       "      <td>2</td>\n",
       "    </tr>\n",
       "    <tr>\n",
       "      <th>c_240</th>\n",
       "      <td>11.06</td>\n",
       "      <td>m</td>\n",
       "      <td>18-29 ans</td>\n",
       "      <td>1</td>\n",
       "    </tr>\n",
       "    <tr>\n",
       "      <th>c_4648</th>\n",
       "      <td>11.20</td>\n",
       "      <td>m</td>\n",
       "      <td>moins de 18 ans</td>\n",
       "      <td>1</td>\n",
       "    </tr>\n",
       "    <tr>\n",
       "      <th>c_4478</th>\n",
       "      <td>13.36</td>\n",
       "      <td>f</td>\n",
       "      <td>50-59 ans</td>\n",
       "      <td>1</td>\n",
       "    </tr>\n",
       "    <tr>\n",
       "      <th>c_5962</th>\n",
       "      <td>13.99</td>\n",
       "      <td>f</td>\n",
       "      <td>18-29 ans</td>\n",
       "      <td>1</td>\n",
       "    </tr>\n",
       "    <tr>\n",
       "      <th>c_6040</th>\n",
       "      <td>15.72</td>\n",
       "      <td>f</td>\n",
       "      <td>40-49 ans</td>\n",
       "      <td>2</td>\n",
       "    </tr>\n",
       "    <tr>\n",
       "      <th>c_5919</th>\n",
       "      <td>15.98</td>\n",
       "      <td>f</td>\n",
       "      <td>60-69 ans</td>\n",
       "      <td>2</td>\n",
       "    </tr>\n",
       "    <tr>\n",
       "      <th>c_5829</th>\n",
       "      <td>16.07</td>\n",
       "      <td>f</td>\n",
       "      <td>30-39 ans</td>\n",
       "      <td>2</td>\n",
       "    </tr>\n",
       "  </tbody>\n",
       "</table>\n",
       "</div>"
      ],
      "text/plain": [
       "           Total_ventes sex      tranche_age  Nombre de Ventes\n",
       "client_id                                                     \n",
       "c_8351             6.31   f        50-59 ans                 1\n",
       "c_8140             8.30   m        50-59 ans                 2\n",
       "c_8114             9.98   m        50-59 ans                 2\n",
       "c_240             11.06   m        18-29 ans                 1\n",
       "c_4648            11.20   m  moins de 18 ans                 1\n",
       "c_4478            13.36   f        50-59 ans                 1\n",
       "c_5962            13.99   f        18-29 ans                 1\n",
       "c_6040            15.72   f        40-49 ans                 2\n",
       "c_5919            15.98   f        60-69 ans                 2\n",
       "c_5829            16.07   f        30-39 ans                 2"
      ]
     },
     "execution_count": 43,
     "metadata": {},
     "output_type": "execute_result"
    }
   ],
   "source": [
    "CA_clients_tot.sort_values('Total_ventes').head(10)"
   ]
  },
  {
   "cell_type": "markdown",
   "metadata": {},
   "source": [
    "## TOP 10 DES CLIENTS LES PLUS DÉPENSIERS"
   ]
  },
  {
   "cell_type": "code",
   "execution_count": 44,
   "metadata": {},
   "outputs": [
    {
     "data": {
      "text/html": [
       "<div>\n",
       "<style scoped>\n",
       "    .dataframe tbody tr th:only-of-type {\n",
       "        vertical-align: middle;\n",
       "    }\n",
       "\n",
       "    .dataframe tbody tr th {\n",
       "        vertical-align: top;\n",
       "    }\n",
       "\n",
       "    .dataframe thead th {\n",
       "        text-align: right;\n",
       "    }\n",
       "</style>\n",
       "<table border=\"1\" class=\"dataframe\">\n",
       "  <thead>\n",
       "    <tr style=\"text-align: right;\">\n",
       "      <th></th>\n",
       "      <th>Total_ventes</th>\n",
       "      <th>sex</th>\n",
       "      <th>tranche_age</th>\n",
       "      <th>Nombre de Ventes</th>\n",
       "    </tr>\n",
       "    <tr>\n",
       "      <th>client_id</th>\n",
       "      <th></th>\n",
       "      <th></th>\n",
       "      <th></th>\n",
       "      <th></th>\n",
       "    </tr>\n",
       "  </thead>\n",
       "  <tbody>\n",
       "    <tr>\n",
       "      <th>c_1609</th>\n",
       "      <td>324033.35</td>\n",
       "      <td>m</td>\n",
       "      <td>40-49 ans</td>\n",
       "      <td>25488</td>\n",
       "    </tr>\n",
       "    <tr>\n",
       "      <th>c_4958</th>\n",
       "      <td>289760.34</td>\n",
       "      <td>m</td>\n",
       "      <td>18-29 ans</td>\n",
       "      <td>5195</td>\n",
       "    </tr>\n",
       "    <tr>\n",
       "      <th>c_6714</th>\n",
       "      <td>153598.92</td>\n",
       "      <td>f</td>\n",
       "      <td>50-59 ans</td>\n",
       "      <td>9181</td>\n",
       "    </tr>\n",
       "    <tr>\n",
       "      <th>c_3454</th>\n",
       "      <td>113637.93</td>\n",
       "      <td>m</td>\n",
       "      <td>50-59 ans</td>\n",
       "      <td>6770</td>\n",
       "    </tr>\n",
       "    <tr>\n",
       "      <th>c_3263</th>\n",
       "      <td>5276.87</td>\n",
       "      <td>f</td>\n",
       "      <td>30-39 ans</td>\n",
       "      <td>403</td>\n",
       "    </tr>\n",
       "    <tr>\n",
       "      <th>c_1570</th>\n",
       "      <td>5271.62</td>\n",
       "      <td>f</td>\n",
       "      <td>40-49 ans</td>\n",
       "      <td>369</td>\n",
       "    </tr>\n",
       "    <tr>\n",
       "      <th>c_2899</th>\n",
       "      <td>5214.05</td>\n",
       "      <td>f</td>\n",
       "      <td>18-29 ans</td>\n",
       "      <td>105</td>\n",
       "    </tr>\n",
       "    <tr>\n",
       "      <th>c_2140</th>\n",
       "      <td>5208.82</td>\n",
       "      <td>f</td>\n",
       "      <td>40-49 ans</td>\n",
       "      <td>402</td>\n",
       "    </tr>\n",
       "    <tr>\n",
       "      <th>c_7319</th>\n",
       "      <td>5155.77</td>\n",
       "      <td>f</td>\n",
       "      <td>40-49 ans</td>\n",
       "      <td>371</td>\n",
       "    </tr>\n",
       "    <tr>\n",
       "      <th>c_7959</th>\n",
       "      <td>5085.45</td>\n",
       "      <td>f</td>\n",
       "      <td>40-49 ans</td>\n",
       "      <td>369</td>\n",
       "    </tr>\n",
       "  </tbody>\n",
       "</table>\n",
       "</div>"
      ],
      "text/plain": [
       "           Total_ventes sex tranche_age  Nombre de Ventes\n",
       "client_id                                                \n",
       "c_1609        324033.35   m   40-49 ans             25488\n",
       "c_4958        289760.34   m   18-29 ans              5195\n",
       "c_6714        153598.92   f   50-59 ans              9181\n",
       "c_3454        113637.93   m   50-59 ans              6770\n",
       "c_3263          5276.87   f   30-39 ans               403\n",
       "c_1570          5271.62   f   40-49 ans               369\n",
       "c_2899          5214.05   f   18-29 ans               105\n",
       "c_2140          5208.82   f   40-49 ans               402\n",
       "c_7319          5155.77   f   40-49 ans               371\n",
       "c_7959          5085.45   f   40-49 ans               369"
      ]
     },
     "execution_count": 44,
     "metadata": {},
     "output_type": "execute_result"
    }
   ],
   "source": [
    "# TOP 10 des clients les plus dépensiers \n",
    "CA_clients_tot.sort_values('Total_ventes', ascending=False).head(10)"
   ]
  },
  {
   "cell_type": "markdown",
   "metadata": {},
   "source": [
    "# PARTIE 2 - DEMANDES DE JULIE"
   ]
  },
  {
   "cell_type": "markdown",
   "metadata": {},
   "source": [
    "## LIEN ENTRE LE GENRE D'UN CLIENT ET LA CATÉGORIE DES LIVRES ACHETÉS (QUALI - QUALI)"
   ]
  },
  {
   "cell_type": "code",
   "execution_count": 45,
   "metadata": {},
   "outputs": [
    {
     "data": {
      "text/html": [
       "<div>\n",
       "<style scoped>\n",
       "    .dataframe tbody tr th:only-of-type {\n",
       "        vertical-align: middle;\n",
       "    }\n",
       "\n",
       "    .dataframe tbody tr th {\n",
       "        vertical-align: top;\n",
       "    }\n",
       "\n",
       "    .dataframe thead th {\n",
       "        text-align: right;\n",
       "    }\n",
       "</style>\n",
       "<table border=\"1\" class=\"dataframe\">\n",
       "  <thead>\n",
       "    <tr style=\"text-align: right;\">\n",
       "      <th>categ</th>\n",
       "      <th>0.0</th>\n",
       "      <th>1.0</th>\n",
       "      <th>2.0</th>\n",
       "      <th>Total</th>\n",
       "    </tr>\n",
       "    <tr>\n",
       "      <th>sex</th>\n",
       "      <th></th>\n",
       "      <th></th>\n",
       "      <th></th>\n",
       "      <th></th>\n",
       "    </tr>\n",
       "  </thead>\n",
       "  <tbody>\n",
       "    <tr>\n",
       "      <th>f</th>\n",
       "      <td>206103</td>\n",
       "      <td>114899</td>\n",
       "      <td>17283</td>\n",
       "      <td>338285</td>\n",
       "    </tr>\n",
       "    <tr>\n",
       "      <th>m</th>\n",
       "      <td>209356</td>\n",
       "      <td>112270</td>\n",
       "      <td>19200</td>\n",
       "      <td>340826</td>\n",
       "    </tr>\n",
       "    <tr>\n",
       "      <th>Total</th>\n",
       "      <td>415459</td>\n",
       "      <td>227169</td>\n",
       "      <td>36483</td>\n",
       "      <td>679111</td>\n",
       "    </tr>\n",
       "  </tbody>\n",
       "</table>\n",
       "</div>"
      ],
      "text/plain": [
       "categ     0.0     1.0    2.0   Total\n",
       "sex                                 \n",
       "f      206103  114899  17283  338285\n",
       "m      209356  112270  19200  340826\n",
       "Total  415459  227169  36483  679111"
      ]
     },
     "execution_count": 45,
     "metadata": {},
     "output_type": "execute_result"
    }
   ],
   "source": [
    "genre_client = df[['sex', 'categ']]\n",
    "cont = genre_client.pivot_table(index='sex', \n",
    "                                columns='categ', \n",
    "                                aggfunc=len,\n",
    "                                margins=True, \n",
    "                                margins_name='Total')\n",
    "cont # Tableau de contingence"
   ]
  },
  {
   "cell_type": "markdown",
   "metadata": {},
   "source": [
    "## MÉTHODE CHI2"
   ]
  },
  {
   "cell_type": "code",
   "execution_count": 46,
   "metadata": {},
   "outputs": [
    {
     "name": "stdout",
     "output_type": "stream",
     "text": [
      "p_value = 3.144522803251581e-29\n",
      "Nos 2 variables ne sont pas indépendantes\n"
     ]
    }
   ],
   "source": [
    "# Hyphothèse nulle = variables indépendantes\n",
    "# st_chi2 = statistique khi2\n",
    "# st_p = p_value\n",
    "# st_dof = nombre de degrés de liberté\n",
    "# st_exp = tableau d'indépendance\n",
    "st_chi2, st_p, st_dof, st_exp = st.chi2_contingency(cont)\n",
    "print('p_value =', st_p)\n",
    "print('Nos 2 variables ne sont pas indépendantes')"
   ]
  },
  {
   "cell_type": "markdown",
   "metadata": {},
   "source": [
    "## TEST DE LA NATURE NORMALE DES DISTRIBUTIONS"
   ]
  },
  {
   "cell_type": "markdown",
   "metadata": {},
   "source": [
    "## ANALYSE DE LA VARIABLE PRIX"
   ]
  },
  {
   "cell_type": "markdown",
   "metadata": {},
   "source": [
    "## CALCUL DES STATS DE BASE"
   ]
  },
  {
   "cell_type": "code",
   "execution_count": 47,
   "metadata": {},
   "outputs": [
    {
     "name": "stdout",
     "output_type": "stream",
     "text": [
      "min = 0.62 max = 300.0 mean = 17.45 median = 13.99 mode = 15.99 standard deviation = 18.33\n"
     ]
    }
   ],
   "source": [
    "print('min =', df['price'].min(), 'max =', df['price'].max(),\n",
    "     'mean =', round(df['price'].mean(), 2), 'median =', df['price'].median(),\n",
    "     'mode =', df['price'].mode()[0],\n",
    "     'standard deviation =', round(df['price'].std(ddof=0), 2))"
   ]
  },
  {
   "cell_type": "markdown",
   "metadata": {},
   "source": [
    "## MÉTHODE 1 : GRAPHIQUE"
   ]
  },
  {
   "cell_type": "markdown",
   "metadata": {},
   "source": [
    "## HISTOGRAMME"
   ]
  },
  {
   "cell_type": "code",
   "execution_count": 48,
   "metadata": {},
   "outputs": [
    {
     "data": {
      "image/png": "[encoded data removed]",
      "text/plain": [
       "<Figure size 1224x432 with 1 Axes>"
      ]
     },
     "metadata": {},
     "output_type": "display_data"
    }
   ],
   "source": [
    "fig, ax = plt.subplots(figsize = (17, 6))\n",
    "\n",
    "# Tracé de l'histogramme\n",
    "df['price'].hist(density=True, bins=80)\n",
    "df['price'].plot(kind = \"kde\")\n",
    "ax.set_xlabel('Modalité', size=17); ax.set_xlim(-10, 310)\n",
    "ax.set_ylabel('Fréquence', size=14)\n",
    "ax.set_title('Histogramme de la variable \"price\"', size=17)\n",
    "plt.grid(False)\n",
    "\n",
    "plt.show()"
   ]
  },
  {
   "cell_type": "markdown",
   "metadata": {},
   "source": [
    "## BOXPLOT"
   ]
  },
  {
   "cell_type": "code",
   "execution_count": 49,
   "metadata": {},
   "outputs": [
    {
     "data": {
      "image/png": "[encoded data removed]",
      "text/plain": [
       "<Figure size 1224x432 with 1 Axes>"
      ]
     },
     "metadata": {},
     "output_type": "display_data"
    }
   ],
   "source": [
    "# Tracé de la boxplot\n",
    "plt.figure(figsize=(17, 6))\n",
    "df.boxplot(column=\"price\", showfliers=False)\n",
    "plt.title('Boxplot de la variable \"price\"', fontsize=25, fontweight='bold')\n",
    "plt.xlabel('Modalitées', size=15)\n",
    "plt.show()"
   ]
  },
  {
   "cell_type": "markdown",
   "metadata": {},
   "source": [
    "## COEFFICIENT D'ASYMÉTRIE ET D'APPLATISSEMENT"
   ]
  },
  {
   "cell_type": "code",
   "execution_count": 50,
   "metadata": {},
   "outputs": [
    {
     "name": "stdout",
     "output_type": "stream",
     "text": [
      "Coefficient d'asymétrie = 5.3903469210976285\n",
      "Coefficient d'aplatissement = 43.068398893360964\n"
     ]
    }
   ],
   "source": [
    "print('Coefficient d\\'asymétrie =', st.skew(df['price']))\n",
    "print('Coefficient d\\'aplatissement =', st.kurtosis(df['price']))"
   ]
  },
  {
   "cell_type": "markdown",
   "metadata": {},
   "source": [
    "## MÉTHODE 2 : QQ PLOT"
   ]
  },
  {
   "cell_type": "code",
   "execution_count": 51,
   "metadata": {},
   "outputs": [
    {
     "name": "stderr",
     "output_type": "stream",
     "text": [
      "/home/hao/.local/lib/python3.8/site-packages/statsmodels/graphics/gofplots.py:993: UserWarning: marker is redundantly defined by the 'marker' keyword argument and the fmt string \"bo\" (-> marker='o'). The keyword argument will take precedence.\n",
      "  ax.plot(x, y, fmt, **plot_style)\n"
     ]
    },
    {
     "data": {
      "text/plain": [
       "<Figure size 1224x432 with 0 Axes>"
      ]
     },
     "metadata": {},
     "output_type": "display_data"
    },
    {
     "data": {
      "image/png": "[encoded data removed]",
      "text/plain": [
       "<Figure size 432x288 with 1 Axes>"
      ]
     },
     "metadata": {},
     "output_type": "display_data"
    }
   ],
   "source": [
    "plt.figure(figsize=(17, 6))\n",
    "sm.qqplot(df['price'], line='45')\n",
    "plt.show()"
   ]
  },
  {
   "cell_type": "markdown",
   "metadata": {},
   "source": [
    "## LIEN ENTRE L'ÂGE DES CLIENTS ET LE MONTANT TOTAL DES ACHATS (QUANTI - QUANTI)"
   ]
  },
  {
   "cell_type": "code",
   "execution_count": 52,
   "metadata": {},
   "outputs": [
    {
     "data": {
      "text/html": [
       "<div>\n",
       "<style scoped>\n",
       "    .dataframe tbody tr th:only-of-type {\n",
       "        vertical-align: middle;\n",
       "    }\n",
       "\n",
       "    .dataframe tbody tr th {\n",
       "        vertical-align: top;\n",
       "    }\n",
       "\n",
       "    .dataframe thead th {\n",
       "        text-align: right;\n",
       "    }\n",
       "</style>\n",
       "<table border=\"1\" class=\"dataframe\">\n",
       "  <thead>\n",
       "    <tr style=\"text-align: right;\">\n",
       "      <th></th>\n",
       "      <th>age</th>\n",
       "      <th>Total_achats</th>\n",
       "      <th>Nombre de clients</th>\n",
       "      <th>Total_achats_par_clients</th>\n",
       "      <th>tranche_age</th>\n",
       "    </tr>\n",
       "  </thead>\n",
       "  <tbody>\n",
       "    <tr>\n",
       "      <th>24</th>\n",
       "      <td>41</td>\n",
       "      <td>613614.58</td>\n",
       "      <td>47409</td>\n",
       "      <td>12.942998</td>\n",
       "      <td>40-49 ans</td>\n",
       "    </tr>\n",
       "    <tr>\n",
       "      <th>0</th>\n",
       "      <td>17</td>\n",
       "      <td>609013.69</td>\n",
       "      <td>15149</td>\n",
       "      <td>40.201577</td>\n",
       "      <td>moins de 18 ans</td>\n",
       "    </tr>\n",
       "    <tr>\n",
       "      <th>5</th>\n",
       "      <td>22</td>\n",
       "      <td>489497.54</td>\n",
       "      <td>10241</td>\n",
       "      <td>47.797826</td>\n",
       "      <td>18-29 ans</td>\n",
       "    </tr>\n",
       "    <tr>\n",
       "      <th>25</th>\n",
       "      <td>42</td>\n",
       "      <td>334267.72</td>\n",
       "      <td>24878</td>\n",
       "      <td>13.436278</td>\n",
       "      <td>40-49 ans</td>\n",
       "    </tr>\n",
       "    <tr>\n",
       "      <th>16</th>\n",
       "      <td>33</td>\n",
       "      <td>330760.73</td>\n",
       "      <td>25000</td>\n",
       "      <td>13.230429</td>\n",
       "      <td>30-39 ans</td>\n",
       "    </tr>\n",
       "    <tr>\n",
       "      <th>...</th>\n",
       "      <td>...</td>\n",
       "      <td>...</td>\n",
       "      <td>...</td>\n",
       "      <td>...</td>\n",
       "      <td>...</td>\n",
       "    </tr>\n",
       "    <tr>\n",
       "      <th>72</th>\n",
       "      <td>89</td>\n",
       "      <td>5043.19</td>\n",
       "      <td>311</td>\n",
       "      <td>16.216045</td>\n",
       "      <td>80 ans ou plus</td>\n",
       "    </tr>\n",
       "    <tr>\n",
       "      <th>69</th>\n",
       "      <td>86</td>\n",
       "      <td>4793.55</td>\n",
       "      <td>271</td>\n",
       "      <td>17.688376</td>\n",
       "      <td>80 ans ou plus</td>\n",
       "    </tr>\n",
       "    <tr>\n",
       "      <th>74</th>\n",
       "      <td>91</td>\n",
       "      <td>4013.87</td>\n",
       "      <td>226</td>\n",
       "      <td>17.760487</td>\n",
       "      <td>80 ans ou plus</td>\n",
       "    </tr>\n",
       "    <tr>\n",
       "      <th>75</th>\n",
       "      <td>92</td>\n",
       "      <td>3221.85</td>\n",
       "      <td>201</td>\n",
       "      <td>16.029104</td>\n",
       "      <td>80 ans ou plus</td>\n",
       "    </tr>\n",
       "    <tr>\n",
       "      <th>73</th>\n",
       "      <td>90</td>\n",
       "      <td>2815.45</td>\n",
       "      <td>170</td>\n",
       "      <td>16.561471</td>\n",
       "      <td>80 ans ou plus</td>\n",
       "    </tr>\n",
       "  </tbody>\n",
       "</table>\n",
       "<p>76 rows × 5 columns</p>\n",
       "</div>"
      ],
      "text/plain": [
       "    age  Total_achats  Nombre de clients  Total_achats_par_clients  \\\n",
       "24   41     613614.58              47409                 12.942998   \n",
       "0    17     609013.69              15149                 40.201577   \n",
       "5    22     489497.54              10241                 47.797826   \n",
       "25   42     334267.72              24878                 13.436278   \n",
       "16   33     330760.73              25000                 13.230429   \n",
       "..  ...           ...                ...                       ...   \n",
       "72   89       5043.19                311                 16.216045   \n",
       "69   86       4793.55                271                 17.688376   \n",
       "74   91       4013.87                226                 17.760487   \n",
       "75   92       3221.85                201                 16.029104   \n",
       "73   90       2815.45                170                 16.561471   \n",
       "\n",
       "        tranche_age  \n",
       "24        40-49 ans  \n",
       "0   moins de 18 ans  \n",
       "5         18-29 ans  \n",
       "25        40-49 ans  \n",
       "16        30-39 ans  \n",
       "..              ...  \n",
       "72   80 ans ou plus  \n",
       "69   80 ans ou plus  \n",
       "74   80 ans ou plus  \n",
       "75   80 ans ou plus  \n",
       "73   80 ans ou plus  \n",
       "\n",
       "[76 rows x 5 columns]"
      ]
     },
     "execution_count": 52,
     "metadata": {},
     "output_type": "execute_result"
    }
   ],
   "source": [
    "age_CA_tot = df.groupby('age').agg({'age': 'count',\n",
    "                                    'price': 'sum',\n",
    "                                    'tranche_age': 'max'})\n",
    "\n",
    "age_CA_tot = age_CA_tot.rename(columns={'price': 'Total_achats',\n",
    "                                        'age': 'Nombre de clients'})\n",
    "age_CA_tot['Total_achats_par_clients'] = age_CA_tot['Total_achats'] / age_CA_tot['Nombre de clients'] \n",
    "age_CA_tot = age_CA_tot.reset_index()\n",
    "age_CA_tot = age_CA_tot[['age', 'Total_achats', 'Nombre de clients',\n",
    "                         'Total_achats_par_clients', 'tranche_age']]\n",
    "\n",
    "age_CA_tot.sort_values('Total_achats', ascending=False)"
   ]
  },
  {
   "cell_type": "markdown",
   "metadata": {},
   "source": [
    "## MÉTHODE 1 : DIAGRAMME DE DISPERSION + RÉGRESSION LINÉAIRE"
   ]
  },
  {
   "cell_type": "code",
   "execution_count": 53,
   "metadata": {},
   "outputs": [
    {
     "data": {
      "text/plain": [
       "(-4633.608512371373, 408501.7781347536, 1.194953584338547e-16)"
      ]
     },
     "execution_count": 53,
     "metadata": {},
     "output_type": "execute_result"
    },
    {
     "data": {
      "image/png": "[encoded data removed]",
      "text/plain": [
       "<Figure size 648x360 with 1 Axes>"
      ]
     },
     "metadata": {},
     "output_type": "display_data"
    }
   ],
   "source": [
    "# Calcul des valeurs utiles à la régression linéaire\n",
    "\n",
    "# https://mrmint.fr/regression-lineaire-python-pratique (détails)\n",
    "slope, intercept, r_value, p_value, std_err = st.linregress(age_CA_tot['age'], \n",
    "              age_CA_tot['Total_achats'])\n",
    "\n",
    "# Méthode openclassroom : https://openclassrooms.com/fr/courses/4525266-decrivez-et-nettoyez-votre-jeu-de-donnees/4774671-analysez-deux-variables-quantitatives-par-regression-lineaire\n",
    "#import statsmodels.api as sm\n",
    "#Y = age_CA_tot['Total_achats €']\n",
    "#X = age_CA_tot[['age']]\n",
    "#X = X.copy()\n",
    "#X['intercept']=1.\n",
    "#result = sm.OLS(Y, X).fit() # OLS = Ordinary Least Square (Moindres Carrés Ordinaire)\n",
    "#a,b = result.params['age'],result.params['intercept']\n",
    "\n",
    "# Tracé de la régression linéaire\n",
    "ax = age_CA_tot.plot.scatter(x='age', \n",
    "                             y='Total_achats',\n",
    "                             title='Diagramme de dispersion',\n",
    "                             c='DarkBlue',\n",
    "                             figsize=(9, 5),\n",
    "                             label='Nuage de points')\n",
    "\n",
    "ax = plt.plot(np.arange(len(age_CA_tot)),\n",
    "          [slope*x+intercept for x in np.arange(len(age_CA_tot))],\n",
    "          label='Régression linéaire')\n",
    "\n",
    "ax = plt.legend(loc='upper left', bbox_to_anchor=(1,1), ncol=1)\n",
    "\n",
    "slope, intercept, p_value"
   ]
  },
  {
   "cell_type": "code",
   "execution_count": 54,
   "metadata": {},
   "outputs": [],
   "source": [
    "#age_CA_tot.groupby('age').sum()[['Total_achats €']].sort_values(by='Total_achats €', ascending=False)"
   ]
  },
  {
   "cell_type": "markdown",
   "metadata": {},
   "source": [
    "## COEFFICIENT DE CORRÉLATION DE PEARSON"
   ]
  },
  {
   "cell_type": "code",
   "execution_count": 54,
   "metadata": {},
   "outputs": [
    {
     "name": "stdout",
     "output_type": "stream",
     "text": [
      "Coefficient corrélation = -0.7788810457117026\n",
      "p_value = 1.1949535843385333e-16\n",
      "p_value < 0,05 les 2 variables ne sont pas indépendantes\n"
     ]
    }
   ],
   "source": [
    "print('Coefficient corrélation =', st.pearsonr(age_CA_tot['age'],\n",
    "      age_CA_tot['Total_achats'])[0])\n",
    "print('p_value =', st.pearsonr(age_CA_tot['age'],\n",
    "      age_CA_tot['Total_achats'])[1])\n",
    "print('p_value < 0,05 les 2 variables ne sont pas indépendantes')"
   ]
  },
  {
   "cell_type": "markdown",
   "metadata": {},
   "source": [
    "## MÉTHODE 2 : BOXPLOT (QUALI- QUANTI)"
   ]
  },
  {
   "cell_type": "code",
   "execution_count": 55,
   "metadata": {
    "scrolled": true
   },
   "outputs": [
    {
     "data": {
      "image/png": "[encoded data removed]",
      "text/plain": [
       "<Figure size 936x432 with 1 Axes>"
      ]
     },
     "metadata": {},
     "output_type": "display_data"
    }
   ],
   "source": [
    "X = 'tranche_age' # qualitative\n",
    "Y = 'Total_achats' # quantitative\n",
    "\n",
    "modalites = age_CA_tot[X].unique()\n",
    "groupes = []\n",
    "for m in modalites:\n",
    "    groupes.append(age_CA_tot[age_CA_tot[X] == m][Y])\n",
    "    \n",
    "# Propriétés graphiques (pas très importantes)    \n",
    "medianprops = {'color':\"black\"}\n",
    "meanprops = {'marker':'o', 'markeredgecolor':'black',\n",
    "            'markerfacecolor':'firebrick'}\n",
    "    \n",
    "plt.figure(figsize=(13, 6))    \n",
    "plt.boxplot(groupes, labels=modalites, showfliers=False, \n",
    "            medianprops=medianprops, patch_artist=True, \n",
    "            showmeans=True, meanprops=meanprops)\n",
    "\n",
    "plt.title('Répartition du total des achats par tranche d\\'âge', \n",
    "          fontsize=25, \n",
    "          fontweight='bold')\n",
    "\n",
    "plt.xlabel('Tranche d\\'âge', fontsize=15)\n",
    "plt.ylabel('Montant total des achats €', fontsize=15)\n",
    "plt.show()"
   ]
  },
  {
   "cell_type": "markdown",
   "metadata": {},
   "source": [
    "## CALCUL DU RAPPORT DE CORRÉLATION"
   ]
  },
  {
   "cell_type": "code",
   "execution_count": 56,
   "metadata": {},
   "outputs": [
    {
     "name": "stdout",
     "output_type": "stream",
     "text": [
      "Coefficient de corrélation = 0.7853636880890591\n"
     ]
    }
   ],
   "source": [
    "print('Coefficient de corrélation =',\n",
    "      eta_squared(age_CA_tot['tranche_age'], \n",
    "      age_CA_tot['Total_achats']))"
   ]
  },
  {
   "cell_type": "markdown",
   "metadata": {},
   "source": [
    "## CALCUL DE LA P VALUE"
   ]
  },
  {
   "cell_type": "code",
   "execution_count": 57,
   "metadata": {},
   "outputs": [
    {
     "data": {
      "text/html": [
       "<div>\n",
       "<style scoped>\n",
       "    .dataframe tbody tr th:only-of-type {\n",
       "        vertical-align: middle;\n",
       "    }\n",
       "\n",
       "    .dataframe tbody tr th {\n",
       "        vertical-align: top;\n",
       "    }\n",
       "\n",
       "    .dataframe thead th {\n",
       "        text-align: right;\n",
       "    }\n",
       "</style>\n",
       "<table border=\"1\" class=\"dataframe\">\n",
       "  <thead>\n",
       "    <tr style=\"text-align: right;\">\n",
       "      <th></th>\n",
       "      <th>df</th>\n",
       "      <th>sum_sq</th>\n",
       "      <th>mean_sq</th>\n",
       "      <th>F</th>\n",
       "      <th>PR(&gt;F)</th>\n",
       "    </tr>\n",
       "  </thead>\n",
       "  <tbody>\n",
       "    <tr>\n",
       "      <th>tranche_age</th>\n",
       "      <td>7.0</td>\n",
       "      <td>1.016603e+12</td>\n",
       "      <td>1.452291e+11</td>\n",
       "      <td>35.544998</td>\n",
       "      <td>2.429434e-20</td>\n",
       "    </tr>\n",
       "    <tr>\n",
       "      <th>Residual</th>\n",
       "      <td>68.0</td>\n",
       "      <td>2.778331e+11</td>\n",
       "      <td>4.085780e+09</td>\n",
       "      <td>NaN</td>\n",
       "      <td>NaN</td>\n",
       "    </tr>\n",
       "  </tbody>\n",
       "</table>\n",
       "</div>"
      ],
      "text/plain": [
       "               df        sum_sq       mean_sq          F        PR(>F)\n",
       "tranche_age   7.0  1.016603e+12  1.452291e+11  35.544998  2.429434e-20\n",
       "Residual     68.0  2.778331e+11  4.085780e+09        NaN           NaN"
      ]
     },
     "execution_count": 57,
     "metadata": {},
     "output_type": "execute_result"
    }
   ],
   "source": [
    "data = age_CA_tot[['tranche_age', 'Total_achats']]\n",
    "result = ols('Total_achats ~ tranche_age', data=data).fit()\n",
    "table = sm.stats.anova_lm(result)\n",
    "\n",
    "table"
   ]
  },
  {
   "cell_type": "code",
   "execution_count": 59,
   "metadata": {},
   "outputs": [],
   "source": [
    "#age_CA_tot[age_CA_tot['tranche_age'] == '70-79 ans']"
   ]
  },
  {
   "cell_type": "markdown",
   "metadata": {},
   "source": [
    "## LIEN ENTRE L'ÂGE DES CLIENTS ET LE MONTANT DU PANIER MOYEN (QUANTI-QUANTI)"
   ]
  },
  {
   "cell_type": "code",
   "execution_count": 58,
   "metadata": {},
   "outputs": [
    {
     "data": {
      "text/html": [
       "<div>\n",
       "<style scoped>\n",
       "    .dataframe tbody tr th:only-of-type {\n",
       "        vertical-align: middle;\n",
       "    }\n",
       "\n",
       "    .dataframe tbody tr th {\n",
       "        vertical-align: top;\n",
       "    }\n",
       "\n",
       "    .dataframe thead th {\n",
       "        text-align: right;\n",
       "    }\n",
       "</style>\n",
       "<table border=\"1\" class=\"dataframe\">\n",
       "  <thead>\n",
       "    <tr style=\"text-align: right;\">\n",
       "      <th></th>\n",
       "      <th>age</th>\n",
       "      <th>Panier moyen €</th>\n",
       "      <th>tranche_age</th>\n",
       "    </tr>\n",
       "  </thead>\n",
       "  <tbody>\n",
       "    <tr>\n",
       "      <th>0</th>\n",
       "      <td>17</td>\n",
       "      <td>40.201577</td>\n",
       "      <td>moins de 18 ans</td>\n",
       "    </tr>\n",
       "    <tr>\n",
       "      <th>1</th>\n",
       "      <td>18</td>\n",
       "      <td>40.767737</td>\n",
       "      <td>18-29 ans</td>\n",
       "    </tr>\n",
       "    <tr>\n",
       "      <th>2</th>\n",
       "      <td>19</td>\n",
       "      <td>40.178305</td>\n",
       "      <td>18-29 ans</td>\n",
       "    </tr>\n",
       "    <tr>\n",
       "      <th>3</th>\n",
       "      <td>20</td>\n",
       "      <td>41.979704</td>\n",
       "      <td>18-29 ans</td>\n",
       "    </tr>\n",
       "    <tr>\n",
       "      <th>4</th>\n",
       "      <td>21</td>\n",
       "      <td>37.391339</td>\n",
       "      <td>18-29 ans</td>\n",
       "    </tr>\n",
       "    <tr>\n",
       "      <th>...</th>\n",
       "      <td>...</td>\n",
       "      <td>...</td>\n",
       "      <td>...</td>\n",
       "    </tr>\n",
       "    <tr>\n",
       "      <th>71</th>\n",
       "      <td>88</td>\n",
       "      <td>16.117638</td>\n",
       "      <td>80 ans ou plus</td>\n",
       "    </tr>\n",
       "    <tr>\n",
       "      <th>72</th>\n",
       "      <td>89</td>\n",
       "      <td>16.216045</td>\n",
       "      <td>80 ans ou plus</td>\n",
       "    </tr>\n",
       "    <tr>\n",
       "      <th>73</th>\n",
       "      <td>90</td>\n",
       "      <td>16.561471</td>\n",
       "      <td>80 ans ou plus</td>\n",
       "    </tr>\n",
       "    <tr>\n",
       "      <th>74</th>\n",
       "      <td>91</td>\n",
       "      <td>17.760487</td>\n",
       "      <td>80 ans ou plus</td>\n",
       "    </tr>\n",
       "    <tr>\n",
       "      <th>75</th>\n",
       "      <td>92</td>\n",
       "      <td>16.029104</td>\n",
       "      <td>80 ans ou plus</td>\n",
       "    </tr>\n",
       "  </tbody>\n",
       "</table>\n",
       "<p>76 rows × 3 columns</p>\n",
       "</div>"
      ],
      "text/plain": [
       "    age  Panier moyen €      tranche_age\n",
       "0    17       40.201577  moins de 18 ans\n",
       "1    18       40.767737        18-29 ans\n",
       "2    19       40.178305        18-29 ans\n",
       "3    20       41.979704        18-29 ans\n",
       "4    21       37.391339        18-29 ans\n",
       "..  ...             ...              ...\n",
       "71   88       16.117638   80 ans ou plus\n",
       "72   89       16.216045   80 ans ou plus\n",
       "73   90       16.561471   80 ans ou plus\n",
       "74   91       17.760487   80 ans ou plus\n",
       "75   92       16.029104   80 ans ou plus\n",
       "\n",
       "[76 rows x 3 columns]"
      ]
     },
     "execution_count": 58,
     "metadata": {},
     "output_type": "execute_result"
    }
   ],
   "source": [
    "age_panier_moyen = df.groupby('age').agg({'price': 'mean', \n",
    "                                    'tranche_age': 'max'})\n",
    "age_panier_moyen = age_panier_moyen.rename(columns={'price': 'Panier moyen €'})\n",
    "age_panier_moyen = age_panier_moyen.reset_index()\n",
    "age_panier_moyen"
   ]
  },
  {
   "cell_type": "markdown",
   "metadata": {},
   "source": [
    "## MÉTHODE 1 : DIAGRAMME DE DISPERSION"
   ]
  },
  {
   "cell_type": "code",
   "execution_count": 61,
   "metadata": {},
   "outputs": [
    {
     "data": {
      "image/png": "[encoded data removed]",
      "text/plain": [
       "<Figure size 648x360 with 1 Axes>"
      ]
     },
     "metadata": {},
     "output_type": "display_data"
    }
   ],
   "source": [
    "ax = age_panier_moyen.plot.scatter(x='age', \n",
    "                             y='Panier moyen €',\n",
    "                             title='Diagramme de dispersion',\n",
    "                             c='DarkBlue',\n",
    "                             figsize=(9, 5))"
   ]
  },
  {
   "cell_type": "code",
   "execution_count": 59,
   "metadata": {},
   "outputs": [
    {
     "name": "stdout",
     "output_type": "stream",
     "text": [
      "Coefficient corrélation = -0.5478614363790846\n",
      "p_value = 3.0190378158595884e-07\n",
      "p_value < 0,05 les 2 variables ne sont pas indépendantes\n"
     ]
    }
   ],
   "source": [
    "print('Coefficient corrélation =', st.pearsonr(age_panier_moyen['age'],\n",
    "      age_panier_moyen['Panier moyen €'])[0])\n",
    "print('p_value =', st.pearsonr(age_panier_moyen['age'],\n",
    "      age_panier_moyen['Panier moyen €'])[1])\n",
    "print('p_value < 0,05 les 2 variables ne sont pas indépendantes')"
   ]
  },
  {
   "cell_type": "markdown",
   "metadata": {},
   "source": [
    "## AJOUT DE LA COLONNE TRANCHE DES PANIERS MOYENS"
   ]
  },
  {
   "cell_type": "code",
   "execution_count": 60,
   "metadata": {},
   "outputs": [
    {
     "data": {
      "text/html": [
       "<div>\n",
       "<style scoped>\n",
       "    .dataframe tbody tr th:only-of-type {\n",
       "        vertical-align: middle;\n",
       "    }\n",
       "\n",
       "    .dataframe tbody tr th {\n",
       "        vertical-align: top;\n",
       "    }\n",
       "\n",
       "    .dataframe thead th {\n",
       "        text-align: right;\n",
       "    }\n",
       "</style>\n",
       "<table border=\"1\" class=\"dataframe\">\n",
       "  <thead>\n",
       "    <tr style=\"text-align: right;\">\n",
       "      <th></th>\n",
       "      <th>age</th>\n",
       "      <th>Panier moyen €</th>\n",
       "      <th>tranche_age</th>\n",
       "      <th>tranche_panier_moyen</th>\n",
       "    </tr>\n",
       "  </thead>\n",
       "  <tbody>\n",
       "    <tr>\n",
       "      <th>0</th>\n",
       "      <td>17</td>\n",
       "      <td>40.201577</td>\n",
       "      <td>moins de 18 ans</td>\n",
       "      <td>plus de 20 €</td>\n",
       "    </tr>\n",
       "    <tr>\n",
       "      <th>1</th>\n",
       "      <td>18</td>\n",
       "      <td>40.767737</td>\n",
       "      <td>18-29 ans</td>\n",
       "      <td>plus de 20 €</td>\n",
       "    </tr>\n",
       "    <tr>\n",
       "      <th>2</th>\n",
       "      <td>19</td>\n",
       "      <td>40.178305</td>\n",
       "      <td>18-29 ans</td>\n",
       "      <td>plus de 20 €</td>\n",
       "    </tr>\n",
       "    <tr>\n",
       "      <th>3</th>\n",
       "      <td>20</td>\n",
       "      <td>41.979704</td>\n",
       "      <td>18-29 ans</td>\n",
       "      <td>plus de 20 €</td>\n",
       "    </tr>\n",
       "    <tr>\n",
       "      <th>4</th>\n",
       "      <td>21</td>\n",
       "      <td>37.391339</td>\n",
       "      <td>18-29 ans</td>\n",
       "      <td>plus de 20 €</td>\n",
       "    </tr>\n",
       "    <tr>\n",
       "      <th>...</th>\n",
       "      <td>...</td>\n",
       "      <td>...</td>\n",
       "      <td>...</td>\n",
       "      <td>...</td>\n",
       "    </tr>\n",
       "    <tr>\n",
       "      <th>71</th>\n",
       "      <td>88</td>\n",
       "      <td>16.117638</td>\n",
       "      <td>80 ans ou plus</td>\n",
       "      <td>Entre 15 et 20 €</td>\n",
       "    </tr>\n",
       "    <tr>\n",
       "      <th>72</th>\n",
       "      <td>89</td>\n",
       "      <td>16.216045</td>\n",
       "      <td>80 ans ou plus</td>\n",
       "      <td>Entre 15 et 20 €</td>\n",
       "    </tr>\n",
       "    <tr>\n",
       "      <th>73</th>\n",
       "      <td>90</td>\n",
       "      <td>16.561471</td>\n",
       "      <td>80 ans ou plus</td>\n",
       "      <td>Entre 15 et 20 €</td>\n",
       "    </tr>\n",
       "    <tr>\n",
       "      <th>74</th>\n",
       "      <td>91</td>\n",
       "      <td>17.760487</td>\n",
       "      <td>80 ans ou plus</td>\n",
       "      <td>Entre 15 et 20 €</td>\n",
       "    </tr>\n",
       "    <tr>\n",
       "      <th>75</th>\n",
       "      <td>92</td>\n",
       "      <td>16.029104</td>\n",
       "      <td>80 ans ou plus</td>\n",
       "      <td>Entre 15 et 20 €</td>\n",
       "    </tr>\n",
       "  </tbody>\n",
       "</table>\n",
       "<p>76 rows × 4 columns</p>\n",
       "</div>"
      ],
      "text/plain": [
       "    age  Panier moyen €      tranche_age tranche_panier_moyen\n",
       "0    17       40.201577  moins de 18 ans         plus de 20 €\n",
       "1    18       40.767737        18-29 ans         plus de 20 €\n",
       "2    19       40.178305        18-29 ans         plus de 20 €\n",
       "3    20       41.979704        18-29 ans         plus de 20 €\n",
       "4    21       37.391339        18-29 ans         plus de 20 €\n",
       "..  ...             ...              ...                  ...\n",
       "71   88       16.117638   80 ans ou plus     Entre 15 et 20 €\n",
       "72   89       16.216045   80 ans ou plus     Entre 15 et 20 €\n",
       "73   90       16.561471   80 ans ou plus     Entre 15 et 20 €\n",
       "74   91       17.760487   80 ans ou plus     Entre 15 et 20 €\n",
       "75   92       16.029104   80 ans ou plus     Entre 15 et 20 €\n",
       "\n",
       "[76 rows x 4 columns]"
      ]
     },
     "execution_count": 60,
     "metadata": {},
     "output_type": "execute_result"
    }
   ],
   "source": [
    "age_panier_moyen\n",
    "cut_labels = ['moins de 15 €', 'Entre 15 et 20 €', 'plus de 20 €']\n",
    "cut_bins = [0, 15, 20, 120]\n",
    "age_panier_moyen['tranche_panier_moyen'] = pd.cut(age_panier_moyen['Panier moyen €'], \n",
    "                           bins=cut_bins, \n",
    "                           labels=cut_labels)\n",
    "age_panier_moyen"
   ]
  },
  {
   "cell_type": "markdown",
   "metadata": {},
   "source": [
    "## MÉTHODE 2 : BOXPLOT (QUANTI-QUALI)"
   ]
  },
  {
   "cell_type": "code",
   "execution_count": 61,
   "metadata": {},
   "outputs": [
    {
     "data": {
      "image/png": "[encoded data removed]",
      "text/plain": [
       "<Figure size 936x432 with 1 Axes>"
      ]
     },
     "metadata": {},
     "output_type": "display_data"
    }
   ],
   "source": [
    "X = 'tranche_panier_moyen' # qualitative\n",
    "Y = 'age' # quantitative\n",
    "\n",
    "modalites = age_panier_moyen[X].unique()\n",
    "groupes = []\n",
    "for m in modalites:\n",
    "    groupes.append(age_panier_moyen[age_panier_moyen[X] == m][Y])\n",
    "    \n",
    "# Propriétés graphiques (pas très importantes)    \n",
    "medianprops = {'color':\"black\"}\n",
    "meanprops = {'marker':'o', 'markeredgecolor':'black',\n",
    "            'markerfacecolor':'firebrick'}\n",
    "    \n",
    "plt.figure(figsize=(13, 6))    \n",
    "plt.boxplot(groupes, labels=modalites, showfliers=False, medianprops=medianprops,\n",
    "            patch_artist=True, showmeans=True, meanprops=meanprops)\n",
    "plt.title('Répartition du total des achats par tranche d\\'âge', fontsize=25, \n",
    "               fontweight='bold')\n",
    "\n",
    "plt.xlabel('Tranche du panier moyen €', fontsize=15)\n",
    "plt.ylabel('age', fontsize=15)\n",
    "plt.show()"
   ]
  },
  {
   "cell_type": "markdown",
   "metadata": {},
   "source": [
    "## CALCUL DU RAPPORT DE CORRÉLATION"
   ]
  },
  {
   "cell_type": "code",
   "execution_count": 62,
   "metadata": {},
   "outputs": [
    {
     "name": "stdout",
     "output_type": "stream",
     "text": [
      "Coefficient de corrélation = 0.7957894736842105\n"
     ]
    }
   ],
   "source": [
    "print('Coefficient de corrélation =',\n",
    "      eta_squared(age_panier_moyen['tranche_panier_moyen'],\n",
    "      age_panier_moyen['age']))"
   ]
  },
  {
   "cell_type": "markdown",
   "metadata": {},
   "source": [
    "## CALCUL DE LA P VALUE"
   ]
  },
  {
   "cell_type": "code",
   "execution_count": 63,
   "metadata": {},
   "outputs": [
    {
     "data": {
      "text/html": [
       "<div>\n",
       "<style scoped>\n",
       "    .dataframe tbody tr th:only-of-type {\n",
       "        vertical-align: middle;\n",
       "    }\n",
       "\n",
       "    .dataframe tbody tr th {\n",
       "        vertical-align: top;\n",
       "    }\n",
       "\n",
       "    .dataframe thead th {\n",
       "        text-align: right;\n",
       "    }\n",
       "</style>\n",
       "<table border=\"1\" class=\"dataframe\">\n",
       "  <thead>\n",
       "    <tr style=\"text-align: right;\">\n",
       "      <th></th>\n",
       "      <th>df</th>\n",
       "      <th>sum_sq</th>\n",
       "      <th>mean_sq</th>\n",
       "      <th>F</th>\n",
       "      <th>PR(&gt;F)</th>\n",
       "    </tr>\n",
       "  </thead>\n",
       "  <tbody>\n",
       "    <tr>\n",
       "      <th>tranche_panier_moyen</th>\n",
       "      <td>2.0</td>\n",
       "      <td>29106.0</td>\n",
       "      <td>14553.000000</td>\n",
       "      <td>142.237113</td>\n",
       "      <td>6.574331e-26</td>\n",
       "    </tr>\n",
       "    <tr>\n",
       "      <th>Residual</th>\n",
       "      <td>73.0</td>\n",
       "      <td>7469.0</td>\n",
       "      <td>102.315068</td>\n",
       "      <td>NaN</td>\n",
       "      <td>NaN</td>\n",
       "    </tr>\n",
       "  </tbody>\n",
       "</table>\n",
       "</div>"
      ],
      "text/plain": [
       "                        df   sum_sq       mean_sq           F        PR(>F)\n",
       "tranche_panier_moyen   2.0  29106.0  14553.000000  142.237113  6.574331e-26\n",
       "Residual              73.0   7469.0    102.315068         NaN           NaN"
      ]
     },
     "execution_count": 63,
     "metadata": {},
     "output_type": "execute_result"
    }
   ],
   "source": [
    "data = age_panier_moyen[['age', 'tranche_panier_moyen']]\n",
    "result = ols('age ~ tranche_panier_moyen', data=data).fit()\n",
    "table = sm.stats.anova_lm(result)\n",
    "\n",
    "table"
   ]
  },
  {
   "cell_type": "markdown",
   "metadata": {},
   "source": [
    "## LIEN ENTRE L'AGE DES CLIENTS ET LA CATÉGORIE DE LIVRES ACHETÉS (QUANTI - QUALI)"
   ]
  },
  {
   "cell_type": "code",
   "execution_count": 64,
   "metadata": {},
   "outputs": [],
   "source": [
    "age_categ = df[['age', 'categ']]"
   ]
  },
  {
   "cell_type": "code",
   "execution_count": 65,
   "metadata": {},
   "outputs": [
    {
     "data": {
      "text/html": [
       "<div>\n",
       "<style scoped>\n",
       "    .dataframe tbody tr th:only-of-type {\n",
       "        vertical-align: middle;\n",
       "    }\n",
       "\n",
       "    .dataframe tbody tr th {\n",
       "        vertical-align: top;\n",
       "    }\n",
       "\n",
       "    .dataframe thead th {\n",
       "        text-align: right;\n",
       "    }\n",
       "</style>\n",
       "<table border=\"1\" class=\"dataframe\">\n",
       "  <thead>\n",
       "    <tr style=\"text-align: right;\">\n",
       "      <th>categ</th>\n",
       "      <th>0.0</th>\n",
       "      <th>1.0</th>\n",
       "      <th>2.0</th>\n",
       "      <th>Total</th>\n",
       "    </tr>\n",
       "    <tr>\n",
       "      <th>age</th>\n",
       "      <th></th>\n",
       "      <th></th>\n",
       "      <th></th>\n",
       "      <th></th>\n",
       "    </tr>\n",
       "  </thead>\n",
       "  <tbody>\n",
       "    <tr>\n",
       "      <th>17</th>\n",
       "      <td>3418</td>\n",
       "      <td>5719</td>\n",
       "      <td>6012</td>\n",
       "      <td>15149</td>\n",
       "    </tr>\n",
       "    <tr>\n",
       "      <th>18</th>\n",
       "      <td>909</td>\n",
       "      <td>1678</td>\n",
       "      <td>1784</td>\n",
       "      <td>4371</td>\n",
       "    </tr>\n",
       "    <tr>\n",
       "      <th>19</th>\n",
       "      <td>1016</td>\n",
       "      <td>1723</td>\n",
       "      <td>1845</td>\n",
       "      <td>4584</td>\n",
       "    </tr>\n",
       "    <tr>\n",
       "      <th>20</th>\n",
       "      <td>974</td>\n",
       "      <td>1550</td>\n",
       "      <td>1728</td>\n",
       "      <td>4252</td>\n",
       "    </tr>\n",
       "    <tr>\n",
       "      <th>21</th>\n",
       "      <td>1114</td>\n",
       "      <td>1628</td>\n",
       "      <td>1671</td>\n",
       "      <td>4413</td>\n",
       "    </tr>\n",
       "    <tr>\n",
       "      <th>...</th>\n",
       "      <td>...</td>\n",
       "      <td>...</td>\n",
       "      <td>...</td>\n",
       "      <td>...</td>\n",
       "    </tr>\n",
       "    <tr>\n",
       "      <th>89</th>\n",
       "      <td>132</td>\n",
       "      <td>177</td>\n",
       "      <td>2</td>\n",
       "      <td>311</td>\n",
       "    </tr>\n",
       "    <tr>\n",
       "      <th>90</th>\n",
       "      <td>77</td>\n",
       "      <td>91</td>\n",
       "      <td>2</td>\n",
       "      <td>170</td>\n",
       "    </tr>\n",
       "    <tr>\n",
       "      <th>91</th>\n",
       "      <td>75</td>\n",
       "      <td>149</td>\n",
       "      <td>2</td>\n",
       "      <td>226</td>\n",
       "    </tr>\n",
       "    <tr>\n",
       "      <th>92</th>\n",
       "      <td>78</td>\n",
       "      <td>122</td>\n",
       "      <td>1</td>\n",
       "      <td>201</td>\n",
       "    </tr>\n",
       "    <tr>\n",
       "      <th>Total</th>\n",
       "      <td>415459</td>\n",
       "      <td>227169</td>\n",
       "      <td>36483</td>\n",
       "      <td>679111</td>\n",
       "    </tr>\n",
       "  </tbody>\n",
       "</table>\n",
       "<p>77 rows × 4 columns</p>\n",
       "</div>"
      ],
      "text/plain": [
       "categ     0.0     1.0    2.0   Total\n",
       "age                                 \n",
       "17       3418    5719   6012   15149\n",
       "18        909    1678   1784    4371\n",
       "19       1016    1723   1845    4584\n",
       "20        974    1550   1728    4252\n",
       "21       1114    1628   1671    4413\n",
       "...       ...     ...    ...     ...\n",
       "89        132     177      2     311\n",
       "90         77      91      2     170\n",
       "91         75     149      2     226\n",
       "92         78     122      1     201\n",
       "Total  415459  227169  36483  679111\n",
       "\n",
       "[77 rows x 4 columns]"
      ]
     },
     "execution_count": 65,
     "metadata": {},
     "output_type": "execute_result"
    }
   ],
   "source": [
    "age_categ.pivot_table(index='age', columns='categ', aggfunc=len,\n",
    "                        margins=True, margins_name='Total')"
   ]
  },
  {
   "cell_type": "code",
   "execution_count": 66,
   "metadata": {},
   "outputs": [
    {
     "data": {
      "image/png": "[encoded data removed]",
      "text/plain": [
       "<Figure size 1368x432 with 1 Axes>"
      ]
     },
     "metadata": {},
     "output_type": "display_data"
    }
   ],
   "source": [
    "X = 'categ' # qualitative\n",
    "Y = 'age' # quantitative\n",
    "\n",
    "modalites = age_categ[X].unique()\n",
    "groupes = []\n",
    "for m in modalites:\n",
    "    groupes.append(age_categ[age_categ[X] == m][Y])\n",
    "    \n",
    "# Propriétés graphiques (pas très importantes)    \n",
    "medianprops = {'color':\"black\"}\n",
    "meanprops = {'marker':'o', 'markeredgecolor':'black',\n",
    "            'markerfacecolor':'firebrick'}\n",
    "    \n",
    "plt.figure(figsize=(19, 6))    \n",
    "plt.boxplot(groupes, labels=modalites, showfliers=False, medianprops=medianprops,\n",
    "            patch_artist=True, showmeans=True, meanprops=meanprops)\n",
    "plt.title('Répartition de l\\'age par catégorie', fontsize=25, fontweight='bold')\n",
    "plt.xlabel('catégorie', fontsize=15)\n",
    "plt.ylabel('Age', fontsize=15)\n",
    "\n",
    "plt.show()"
   ]
  },
  {
   "cell_type": "markdown",
   "metadata": {},
   "source": [
    "## CALCUL DU RAPPORT DE CORRÉLATION"
   ]
  },
  {
   "cell_type": "code",
   "execution_count": 67,
   "metadata": {},
   "outputs": [
    {
     "data": {
      "text/plain": [
       "0.11903391947235274"
      ]
     },
     "execution_count": 67,
     "metadata": {},
     "output_type": "execute_result"
    }
   ],
   "source": [
    "eta_squared(age_categ['categ'], age_categ['age'])"
   ]
  },
  {
   "cell_type": "markdown",
   "metadata": {},
   "source": [
    "## CALCUL DE LA P VALUE"
   ]
  },
  {
   "cell_type": "code",
   "execution_count": 68,
   "metadata": {},
   "outputs": [
    {
     "data": {
      "text/html": [
       "<div>\n",
       "<style scoped>\n",
       "    .dataframe tbody tr th:only-of-type {\n",
       "        vertical-align: middle;\n",
       "    }\n",
       "\n",
       "    .dataframe tbody tr th {\n",
       "        vertical-align: top;\n",
       "    }\n",
       "\n",
       "    .dataframe thead th {\n",
       "        text-align: right;\n",
       "    }\n",
       "</style>\n",
       "<table border=\"1\" class=\"dataframe\">\n",
       "  <thead>\n",
       "    <tr style=\"text-align: right;\">\n",
       "      <th></th>\n",
       "      <th>df</th>\n",
       "      <th>sum_sq</th>\n",
       "      <th>mean_sq</th>\n",
       "      <th>F</th>\n",
       "      <th>PR(&gt;F)</th>\n",
       "    </tr>\n",
       "  </thead>\n",
       "  <tbody>\n",
       "    <tr>\n",
       "      <th>categ</th>\n",
       "      <td>1.0</td>\n",
       "      <td>1.232600e+06</td>\n",
       "      <td>1.232600e+06</td>\n",
       "      <td>6754.872084</td>\n",
       "      <td>0.0</td>\n",
       "    </tr>\n",
       "    <tr>\n",
       "      <th>Residual</th>\n",
       "      <td>679109.0</td>\n",
       "      <td>1.239209e+08</td>\n",
       "      <td>1.824757e+02</td>\n",
       "      <td>NaN</td>\n",
       "      <td>NaN</td>\n",
       "    </tr>\n",
       "  </tbody>\n",
       "</table>\n",
       "</div>"
      ],
      "text/plain": [
       "                df        sum_sq       mean_sq            F  PR(>F)\n",
       "categ          1.0  1.232600e+06  1.232600e+06  6754.872084     0.0\n",
       "Residual  679109.0  1.239209e+08  1.824757e+02          NaN     NaN"
      ]
     },
     "execution_count": 68,
     "metadata": {},
     "output_type": "execute_result"
    }
   ],
   "source": [
    "data = age_categ[['categ', 'age']]\n",
    "result = ols('age ~ categ', data=data).fit()\n",
    "table = sm.stats.anova_lm(result)\n",
    "\n",
    "table"
   ]
  },
  {
   "cell_type": "markdown",
   "metadata": {},
   "source": [
    "## LIEN ENTRE L'AGE ET LA FRÉQUENCE D'ACHAT QUANTI - QUANTI"
   ]
  },
  {
   "cell_type": "code",
   "execution_count": 69,
   "metadata": {},
   "outputs": [
    {
     "data": {
      "text/html": [
       "<div>\n",
       "<style scoped>\n",
       "    .dataframe tbody tr th:only-of-type {\n",
       "        vertical-align: middle;\n",
       "    }\n",
       "\n",
       "    .dataframe tbody tr th {\n",
       "        vertical-align: top;\n",
       "    }\n",
       "\n",
       "    .dataframe thead th {\n",
       "        text-align: right;\n",
       "    }\n",
       "</style>\n",
       "<table border=\"1\" class=\"dataframe\">\n",
       "  <thead>\n",
       "    <tr style=\"text-align: right;\">\n",
       "      <th></th>\n",
       "      <th>age</th>\n",
       "      <th>counts</th>\n",
       "      <th>AchatsParMois</th>\n",
       "      <th>AchatsParSemaine</th>\n",
       "    </tr>\n",
       "  </thead>\n",
       "  <tbody>\n",
       "    <tr>\n",
       "      <th>0</th>\n",
       "      <td>17</td>\n",
       "      <td>15149</td>\n",
       "      <td>631.208333</td>\n",
       "      <td>145.663462</td>\n",
       "    </tr>\n",
       "    <tr>\n",
       "      <th>1</th>\n",
       "      <td>18</td>\n",
       "      <td>4371</td>\n",
       "      <td>182.125000</td>\n",
       "      <td>42.028846</td>\n",
       "    </tr>\n",
       "    <tr>\n",
       "      <th>2</th>\n",
       "      <td>19</td>\n",
       "      <td>4584</td>\n",
       "      <td>191.000000</td>\n",
       "      <td>44.076923</td>\n",
       "    </tr>\n",
       "    <tr>\n",
       "      <th>3</th>\n",
       "      <td>20</td>\n",
       "      <td>4252</td>\n",
       "      <td>177.166667</td>\n",
       "      <td>40.884615</td>\n",
       "    </tr>\n",
       "    <tr>\n",
       "      <th>4</th>\n",
       "      <td>21</td>\n",
       "      <td>4413</td>\n",
       "      <td>183.875000</td>\n",
       "      <td>42.432692</td>\n",
       "    </tr>\n",
       "  </tbody>\n",
       "</table>\n",
       "</div>"
      ],
      "text/plain": [
       "   age  counts  AchatsParMois  AchatsParSemaine\n",
       "0   17   15149     631.208333        145.663462\n",
       "1   18    4371     182.125000         42.028846\n",
       "2   19    4584     191.000000         44.076923\n",
       "3   20    4252     177.166667         40.884615\n",
       "4   21    4413     183.875000         42.432692"
      ]
     },
     "execution_count": 69,
     "metadata": {},
     "output_type": "execute_result"
    }
   ],
   "source": [
    "age_freq = df.groupby('age').size().reset_index(name='counts')\n",
    "age_freq = age_freq.assign(AchatsParMois=lambda x: x.counts / 24)\n",
    "age_freq = age_freq.assign(AchatsParSemaine=lambda x: x.counts / 104)\n",
    "\n",
    "age_freq.head()"
   ]
  },
  {
   "cell_type": "markdown",
   "metadata": {},
   "source": [
    "## DIAGRAMME DE DISPERSION + RÉGRESSION LINÉAIRE"
   ]
  },
  {
   "cell_type": "code",
   "execution_count": 70,
   "metadata": {},
   "outputs": [
    {
     "data": {
      "text/plain": [
       "(-8.750883458646614, 849.2427756892229)"
      ]
     },
     "execution_count": 70,
     "metadata": {},
     "output_type": "execute_result"
    },
    {
     "data": {
      "image/png": "[encoded data removed]",
      "text/plain": [
       "<Figure size 648x360 with 1 Axes>"
      ]
     },
     "metadata": {},
     "output_type": "display_data"
    }
   ],
   "source": [
    "# Calcul des valeurs utiles à la régression linéaire\n",
    "\n",
    "# https://mrmint.fr/regression-lineaire-python-pratique (détails)\n",
    "slope, intercept, r_value, p_value, std_err = st.linregress(age_freq['age'], \n",
    "              age_freq['AchatsParMois'])\n",
    "\n",
    "# Tracé de la régression linéaire\n",
    "ax = age_freq.plot.scatter(x='age', \n",
    "                             y='AchatsParMois',\n",
    "                             title='Diagramme de dispersion',\n",
    "                             c='DarkBlue',\n",
    "                             figsize=(9, 5),\n",
    "                             label='Nuage de points')\n",
    "\n",
    "ax = plt.plot(np.arange(len(age_freq)),\n",
    "          [slope*x+intercept for x in np.arange(len(age_freq))],\n",
    "          label='Régression linéaire')\n",
    "\n",
    "ax = plt.legend(loc='upper left', bbox_to_anchor=(1,1), ncol=1)\n",
    "\n",
    "slope, intercept"
   ]
  },
  {
   "cell_type": "markdown",
   "metadata": {},
   "source": [
    "## COEFFICIENT DE CORRÉLATION DE PEARSON"
   ]
  },
  {
   "cell_type": "code",
   "execution_count": 71,
   "metadata": {},
   "outputs": [
    {
     "name": "stdout",
     "output_type": "stream",
     "text": [
      "-0.5337344271238333\n",
      "Coefficient corrélation = -0.5337344271238333\n",
      "p_value = 6.876677470343458e-07\n",
      "p_value < 0,05 les 2 variables ne sont pas indépendantes\n"
     ]
    }
   ],
   "source": [
    "print(st.pearsonr(age_freq['age'],\n",
    "      age_freq['AchatsParMois'])[0])\n",
    "\n",
    "print('Coefficient corrélation =', st.pearsonr(age_freq['age'],\n",
    "      age_freq['AchatsParMois'])[0])\n",
    "print('p_value =', st.pearsonr(age_freq['age'],\n",
    "      age_freq['AchatsParMois'])[1])\n",
    "print('p_value < 0,05 les 2 variables ne sont pas indépendantes')"
   ]
  },
  {
   "cell_type": "markdown",
   "metadata": {},
   "source": [
    "# CALCUL DE PROBABILITÉ"
   ]
  },
  {
   "cell_type": "code",
   "execution_count": 72,
   "metadata": {},
   "outputs": [
    {
     "data": {
      "text/html": [
       "<div>\n",
       "<style scoped>\n",
       "    .dataframe tbody tr th:only-of-type {\n",
       "        vertical-align: middle;\n",
       "    }\n",
       "\n",
       "    .dataframe tbody tr th {\n",
       "        vertical-align: top;\n",
       "    }\n",
       "\n",
       "    .dataframe thead th {\n",
       "        text-align: right;\n",
       "    }\n",
       "</style>\n",
       "<table border=\"1\" class=\"dataframe\">\n",
       "  <thead>\n",
       "    <tr style=\"text-align: right;\">\n",
       "      <th></th>\n",
       "      <th>id_prod</th>\n",
       "      <th>client_id</th>\n",
       "    </tr>\n",
       "    <tr>\n",
       "      <th>date</th>\n",
       "      <th></th>\n",
       "      <th></th>\n",
       "    </tr>\n",
       "  </thead>\n",
       "  <tbody>\n",
       "    <tr>\n",
       "      <th>2021-03-01</th>\n",
       "      <td>0_1685</td>\n",
       "      <td>c_3946</td>\n",
       "    </tr>\n",
       "    <tr>\n",
       "      <th>2021-03-01</th>\n",
       "      <td>0_1536</td>\n",
       "      <td>c_3590</td>\n",
       "    </tr>\n",
       "    <tr>\n",
       "      <th>2021-03-01</th>\n",
       "      <td>1_160</td>\n",
       "      <td>c_5253</td>\n",
       "    </tr>\n",
       "    <tr>\n",
       "      <th>2021-03-01</th>\n",
       "      <td>0_1999</td>\n",
       "      <td>c_2285</td>\n",
       "    </tr>\n",
       "    <tr>\n",
       "      <th>2021-03-01</th>\n",
       "      <td>0_2056</td>\n",
       "      <td>c_7670</td>\n",
       "    </tr>\n",
       "    <tr>\n",
       "      <th>...</th>\n",
       "      <td>...</td>\n",
       "      <td>...</td>\n",
       "    </tr>\n",
       "    <tr>\n",
       "      <th>2023-02-28</th>\n",
       "      <td>1_283</td>\n",
       "      <td>c_7495</td>\n",
       "    </tr>\n",
       "    <tr>\n",
       "      <th>2023-02-28</th>\n",
       "      <td>0_1705</td>\n",
       "      <td>c_4561</td>\n",
       "    </tr>\n",
       "    <tr>\n",
       "      <th>2023-02-28</th>\n",
       "      <td>1_283</td>\n",
       "      <td>c_6775</td>\n",
       "    </tr>\n",
       "    <tr>\n",
       "      <th>2023-02-28</th>\n",
       "      <td>1_310</td>\n",
       "      <td>c_3454</td>\n",
       "    </tr>\n",
       "    <tr>\n",
       "      <th>2023-02-28</th>\n",
       "      <td>2_39</td>\n",
       "      <td>c_7483</td>\n",
       "    </tr>\n",
       "  </tbody>\n",
       "</table>\n",
       "<p>679111 rows × 2 columns</p>\n",
       "</div>"
      ],
      "text/plain": [
       "           id_prod client_id\n",
       "date                        \n",
       "2021-03-01  0_1685    c_3946\n",
       "2021-03-01  0_1536    c_3590\n",
       "2021-03-01   1_160    c_5253\n",
       "2021-03-01  0_1999    c_2285\n",
       "2021-03-01  0_2056    c_7670\n",
       "...            ...       ...\n",
       "2023-02-28   1_283    c_7495\n",
       "2023-02-28  0_1705    c_4561\n",
       "2023-02-28   1_283    c_6775\n",
       "2023-02-28   1_310    c_3454\n",
       "2023-02-28    2_39    c_7483\n",
       "\n",
       "[679111 rows x 2 columns]"
      ]
     },
     "execution_count": 72,
     "metadata": {},
     "output_type": "execute_result"
    }
   ],
   "source": [
    "# Nombre de personnes ayant achetées 2_159\n",
    "df=df[['id_prod', 'client_id']]\n",
    "df"
   ]
  },
  {
   "cell_type": "code",
   "execution_count": 75,
   "metadata": {},
   "outputs": [
    {
     "name": "stdout",
     "output_type": "stream",
     "text": [
      "86.6 % des personnes qui ont achetés 2_159 ont aussi achetés 0_525\n"
     ]
    }
   ],
   "source": [
    "# Nombre de personnes ayant achetées 2_159\n",
    "achat_1 = df[df['id_prod'] == '2_159']\n",
    "achat_1 = achat_1.drop_duplicates(\"client_id\", keep='last')\n",
    "achat_1\n",
    "\n",
    "# Nombre de personnes ayant achetées 0_525\n",
    "achat_2 = df[df['id_prod'] == '0_525']\n",
    "achat_2 = achat_2.drop_duplicates(\"client_id\", keep='last')\n",
    "achat_2\n",
    "\n",
    "# Calcul de la probabilité conditionnelle\n",
    "Proba = len(achat_2)/len(achat_1)*100\n",
    "print(round(Proba, 2),'%','des personnes qui ont achetés 2_159 ont aussi achetés 0_525')"
   ]
  },
  {
   "cell_type": "code",
   "execution_count": 77,
   "metadata": {},
   "outputs": [
    {
     "data": {
      "text/html": [
       "<div>\n",
       "<style scoped>\n",
       "    .dataframe tbody tr th:only-of-type {\n",
       "        vertical-align: middle;\n",
       "    }\n",
       "\n",
       "    .dataframe tbody tr th {\n",
       "        vertical-align: top;\n",
       "    }\n",
       "\n",
       "    .dataframe thead th {\n",
       "        text-align: right;\n",
       "    }\n",
       "</style>\n",
       "<table border=\"1\" class=\"dataframe\">\n",
       "  <thead>\n",
       "    <tr style=\"text-align: right;\">\n",
       "      <th></th>\n",
       "      <th>id_prod</th>\n",
       "      <th>client_id</th>\n",
       "    </tr>\n",
       "    <tr>\n",
       "      <th>date</th>\n",
       "      <th></th>\n",
       "      <th></th>\n",
       "    </tr>\n",
       "  </thead>\n",
       "  <tbody>\n",
       "    <tr>\n",
       "      <th>2021-03-01</th>\n",
       "      <td>2_159</td>\n",
       "      <td>c_2011</td>\n",
       "    </tr>\n",
       "    <tr>\n",
       "      <th>2021-03-02</th>\n",
       "      <td>2_159</td>\n",
       "      <td>c_5585</td>\n",
       "    </tr>\n",
       "    <tr>\n",
       "      <th>2021-03-04</th>\n",
       "      <td>2_159</td>\n",
       "      <td>c_1714</td>\n",
       "    </tr>\n",
       "    <tr>\n",
       "      <th>2021-03-05</th>\n",
       "      <td>2_159</td>\n",
       "      <td>c_1240</td>\n",
       "    </tr>\n",
       "    <tr>\n",
       "      <th>2021-03-05</th>\n",
       "      <td>2_159</td>\n",
       "      <td>c_3191</td>\n",
       "    </tr>\n",
       "    <tr>\n",
       "      <th>...</th>\n",
       "      <td>...</td>\n",
       "      <td>...</td>\n",
       "    </tr>\n",
       "    <tr>\n",
       "      <th>2023-02-20</th>\n",
       "      <td>2_159</td>\n",
       "      <td>c_3558</td>\n",
       "    </tr>\n",
       "    <tr>\n",
       "      <th>2023-02-21</th>\n",
       "      <td>2_159</td>\n",
       "      <td>c_5362</td>\n",
       "    </tr>\n",
       "    <tr>\n",
       "      <th>2023-02-22</th>\n",
       "      <td>2_159</td>\n",
       "      <td>c_7507</td>\n",
       "    </tr>\n",
       "    <tr>\n",
       "      <th>2023-02-23</th>\n",
       "      <td>2_159</td>\n",
       "      <td>c_1290</td>\n",
       "    </tr>\n",
       "    <tr>\n",
       "      <th>2023-02-27</th>\n",
       "      <td>2_159</td>\n",
       "      <td>c_5758</td>\n",
       "    </tr>\n",
       "  </tbody>\n",
       "</table>\n",
       "<p>530 rows × 2 columns</p>\n",
       "</div>"
      ],
      "text/plain": [
       "           id_prod client_id\n",
       "date                        \n",
       "2021-03-01   2_159    c_2011\n",
       "2021-03-02   2_159    c_5585\n",
       "2021-03-04   2_159    c_1714\n",
       "2021-03-05   2_159    c_1240\n",
       "2021-03-05   2_159    c_3191\n",
       "...            ...       ...\n",
       "2023-02-20   2_159    c_3558\n",
       "2023-02-21   2_159    c_5362\n",
       "2023-02-22   2_159    c_7507\n",
       "2023-02-23   2_159    c_1290\n",
       "2023-02-27   2_159    c_5758\n",
       "\n",
       "[530 rows x 2 columns]"
      ]
     },
     "execution_count": 77,
     "metadata": {},
     "output_type": "execute_result"
    }
   ],
   "source": [
    "set(achat_1"
   ]
  },
  {
   "cell_type": "code",
   "execution_count": 81,
   "metadata": {},
   "outputs": [
    {
     "data": {
      "text/plain": [
       "0.8660377358490566"
      ]
     },
     "execution_count": 81,
     "metadata": {},
     "output_type": "execute_result"
    }
   ],
   "source": [
    "len(set(achat_1.client_id).intersection(achat_2.client_id))/len(achat_1)"
   ]
  }
 ],
 "metadata": {
  "kernelspec": {
   "display_name": "Python 3",
   "language": "python",
   "name": "python3"
  },
  "language_info": {
   "codemirror_mode": {
    "name": "ipython",
    "version": 3
   },
   "file_extension": ".py",
   "mimetype": "text/x-python",
   "name": "python",
   "nbconvert_exporter": "python",
   "pygments_lexer": "ipython3",
   "version": "3.8.10"
  }
 },
 "nbformat": 4,
 "nbformat_minor": 4
}
